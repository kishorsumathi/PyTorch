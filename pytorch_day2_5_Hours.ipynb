{
  "nbformat": 4,
  "nbformat_minor": 0,
  "metadata": {
    "colab": {
      "provenance": [],
      "collapsed_sections": []
    },
    "kernelspec": {
      "name": "python3",
      "display_name": "Python 3"
    },
    "language_info": {
      "name": "python"
    },
    "accelerator": "GPU"
  },
  "cells": [
    {
      "cell_type": "markdown",
      "source": [
        "## Pytorch workflow"
      ],
      "metadata": {
        "id": "1VcIMZlfewtN"
      }
    },
    {
      "cell_type": "code",
      "source": [
        "import torch\n",
        "from torch import nn ## nn contains all of pytorch's building blocks for neural networks\n",
        "import matplotlib.pyplot as plt\n",
        "\n",
        "##check pytorch version\n",
        "print(torch.__version__)"
      ],
      "metadata": {
        "colab": {
          "base_uri": "https://localhost:8080/"
        },
        "id": "CQMXvTWOh-v-",
        "outputId": "0c7db14a-5d0a-4c48-e5f7-85e072f745f8"
      },
      "execution_count": 1,
      "outputs": [
        {
          "output_type": "stream",
          "name": "stdout",
          "text": [
            "1.12.1+cu113\n"
          ]
        }
      ]
    },
    {
      "cell_type": "markdown",
      "source": [
        "## 1. Data (preparing and loading)\n",
        "\n",
        "Machine learning is a game of two parts\n",
        "\n",
        "1.   Get data into a numerical representation.\n",
        "2.   Build a models to learn patterns in that numerical representation\n",
        "\n"
      ],
      "metadata": {
        "id": "P9zR9_N0nhDM"
      }
    },
    {
      "cell_type": "code",
      "source": [
        "## crate *known* parameters\n",
        "weight=0.7\n",
        "bias=0.3\n",
        "\n",
        "#create data\n",
        "start=0\n",
        "end=1\n",
        "step=0.02\n",
        "X=torch.arange(start,end,step).unsqueeze(dim=1)\n",
        "y= weight*X+bias\n",
        "print(X[:10],y[:10])"
      ],
      "metadata": {
        "colab": {
          "base_uri": "https://localhost:8080/"
        },
        "id": "TaKQLRoZne1o",
        "outputId": "4a2a9670-7fac-4912-e092-f00cbdca2643"
      },
      "execution_count": 2,
      "outputs": [
        {
          "output_type": "stream",
          "name": "stdout",
          "text": [
            "tensor([[0.0000],\n",
            "        [0.0200],\n",
            "        [0.0400],\n",
            "        [0.0600],\n",
            "        [0.0800],\n",
            "        [0.1000],\n",
            "        [0.1200],\n",
            "        [0.1400],\n",
            "        [0.1600],\n",
            "        [0.1800]]) tensor([[0.3000],\n",
            "        [0.3140],\n",
            "        [0.3280],\n",
            "        [0.3420],\n",
            "        [0.3560],\n",
            "        [0.3700],\n",
            "        [0.3840],\n",
            "        [0.3980],\n",
            "        [0.4120],\n",
            "        [0.4260]])\n"
          ]
        }
      ]
    },
    {
      "cell_type": "code",
      "source": [
        "len(X),len(y)"
      ],
      "metadata": {
        "colab": {
          "base_uri": "https://localhost:8080/"
        },
        "id": "4PoOtJc8ts6V",
        "outputId": "9a69895d-26dc-4c0a-a7ef-3caeff8cc359"
      },
      "execution_count": 3,
      "outputs": [
        {
          "output_type": "execute_result",
          "data": {
            "text/plain": [
              "(50, 50)"
            ]
          },
          "metadata": {},
          "execution_count": 3
        }
      ]
    },
    {
      "cell_type": "markdown",
      "source": [
        "## splitting data into training and testing"
      ],
      "metadata": {
        "id": "HhWWqxGip-zL"
      }
    },
    {
      "cell_type": "code",
      "source": [
        "## Create a train/test split\n",
        "train_split= int(0.8 * len(X))\n",
        "X_train,y_train= X[:train_split], y[:train_split]\n",
        "X_test,y_test=X[train_split:],y[train_split:]\n",
        "\n",
        "len(X_train),len(y_train),len(X_test),len(y_test)\n"
      ],
      "metadata": {
        "colab": {
          "base_uri": "https://localhost:8080/"
        },
        "id": "hyt-FVnmqdbe",
        "outputId": "ef1b74b8-23fe-443c-c3bd-bdb21eaabfd5"
      },
      "execution_count": 4,
      "outputs": [
        {
          "output_type": "execute_result",
          "data": {
            "text/plain": [
              "(40, 40, 10, 10)"
            ]
          },
          "metadata": {},
          "execution_count": 4
        }
      ]
    },
    {
      "cell_type": "markdown",
      "source": [
        "## visualize our data"
      ],
      "metadata": {
        "id": "oAQ4tVkAwWrN"
      }
    },
    {
      "cell_type": "code",
      "source": [
        "\n",
        "\n",
        "def plot_prediction(train_data=X_train,\n",
        "                    train_labels=y_train,\n",
        "                    test_data=X_test,\n",
        "                    test_labels=y_test,\n",
        "                    predictions=None):\n",
        "  \"\"\"\n",
        "  plots training data, test data and compares predictions.\n",
        "  \"\"\"\n",
        "  plt.figure(figsize=(10,7))\n",
        "  plt.scatter(train_data,train_labels,c=\"b\",s=4,label=\"training data\")\n",
        "  plt.scatter(test_data,test_labels,c=\"g\",s=4,label=\"testing data\")\n",
        "  if predictions is not None:\n",
        "       plt.scatter(test_data,predictions,c=\"r\",s=4,label=\"predictions\")\n",
        "  ## show legend\n",
        "  plt.legend(prop={\"size\":14})\n",
        "  plt.show()"
      ],
      "metadata": {
        "id": "GAA_EBXcu_wC"
      },
      "execution_count": 5,
      "outputs": []
    },
    {
      "cell_type": "code",
      "source": [
        "X_train[1],y_train[1]"
      ],
      "metadata": {
        "colab": {
          "base_uri": "https://localhost:8080/"
        },
        "id": "Do8dH8If5Lg2",
        "outputId": "075ffd51-0155-48b9-8233-62b5498fa2c8"
      },
      "execution_count": 6,
      "outputs": [
        {
          "output_type": "execute_result",
          "data": {
            "text/plain": [
              "(tensor([0.0200]), tensor([0.3140]))"
            ]
          },
          "metadata": {},
          "execution_count": 6
        }
      ]
    },
    {
      "cell_type": "code",
      "source": [
        "plot_prediction()"
      ],
      "metadata": {
        "colab": {
          "base_uri": "https://localhost:8080/",
          "height": 428
        },
        "id": "zYqZ0H6qvA6E",
        "outputId": "2613b7ee-fb73-4130-e96e-638d91e1d509"
      },
      "execution_count": 7,
      "outputs": [
        {
          "output_type": "display_data",
          "data": {
            "text/plain": [
              "<Figure size 720x504 with 1 Axes>"
            ],
            "image/png": "[encoded data removed]"
          },
          "metadata": {
            "needs_background": "light"
          }
        }
      ]
    },
    {
      "cell_type": "code",
      "source": [
        "from torch import nn\n",
        "class linearregression(nn.Module):\n",
        "  def __init__(self):\n",
        "    super().__init__()\n",
        "    self.weights=torch.nn.Parameter(torch.randn(1,requires_grad=True,dtype=torch.float32))\n",
        "    self.bias=torch.nn.Parameter(torch.randn(1,requires_grad=True,dtype=torch.float32))\n",
        "  def forward(self,x:torch.Tensor) -> torch.Tensor:  #computatuon performed,foward() tells the larger blocks how to make calculations on inputs (tensors full of data) within nn.Module(s)\n",
        "    return self.weights *x + self.bias\n"
      ],
      "metadata": {
        "id": "4UkcDALrypia"
      },
      "execution_count": 8,
      "outputs": []
    },
    {
      "cell_type": "code",
      "source": [
        "## we have set all the parameters explicitly if you use torch.nn.linear() function the parameters will be handled automatically"
      ],
      "metadata": {
        "id": "DQHsGO6ZVeUh"
      },
      "execution_count": 9,
      "outputs": []
    },
    {
      "cell_type": "code",
      "source": [
        "\n",
        "obj=linearregression()"
      ],
      "metadata": {
        "id": "_goaa1z_U7ku"
      },
      "execution_count": 10,
      "outputs": []
    },
    {
      "cell_type": "code",
      "source": [
        "\n",
        "for i in obj.parameters():\n",
        "  print(i)"
      ],
      "metadata": {
        "colab": {
          "base_uri": "https://localhost:8080/"
        },
        "id": "h_jqk69tU7yE",
        "outputId": "b337a8b3-0301-4b15-836c-05a333072eee"
      },
      "execution_count": 11,
      "outputs": [
        {
          "output_type": "stream",
          "name": "stdout",
          "text": [
            "Parameter containing:\n",
            "tensor([-2.6102], requires_grad=True)\n",
            "Parameter containing:\n",
            "tensor([-0.9565], requires_grad=True)\n"
          ]
        }
      ]
    },
    {
      "cell_type": "markdown",
      "source": [
        "## PyTorch model building essentials\n",
        "\n",
        "* torch.nn- contains all of the buildings for computational graphs( a neural network can be considered a computational graph)\n",
        "* torch.nn.Parameters- What paramets should our model try and learn, often a Pytorch layers from torch.nn will set these for us\n",
        "* torch.nn.Module - The base class for all neural netwok modules, if you subclass it, you should overwrite the forward method.\n",
        "* torch.optim - this where the optimizers in Pytorch live, they will help with gradient decent\n",
        " "
      ],
      "metadata": {
        "id": "5zOVpIyQVGhy"
      }
    },
    {
      "cell_type": "markdown",
      "source": [
        "## Checking the contents of our Pytorch model"
      ],
      "metadata": {
        "id": "9W83XJsMyjGR"
      }
    },
    {
      "cell_type": "code",
      "source": [
        "\n",
        "torch.manual_seed(42)\n"
      ],
      "metadata": {
        "colab": {
          "base_uri": "https://localhost:8080/"
        },
        "id": "w5yZ4dxAwmJG",
        "outputId": "21830679-9d1d-4e84-df1d-9abc1632ad17"
      },
      "execution_count": 12,
      "outputs": [
        {
          "output_type": "execute_result",
          "data": {
            "text/plain": [
              "<torch._C.Generator at 0x7f9c42a6e1b0>"
            ]
          },
          "metadata": {},
          "execution_count": 12
        }
      ]
    },
    {
      "cell_type": "code",
      "source": [
        "\n",
        "model_0=linearregression()"
      ],
      "metadata": {
        "id": "XJU4euIPyt0D"
      },
      "execution_count": 13,
      "outputs": []
    },
    {
      "cell_type": "code",
      "source": [
        "\n",
        "for i in model_0.parameters():\n",
        "  print(i)"
      ],
      "metadata": {
        "colab": {
          "base_uri": "https://localhost:8080/"
        },
        "id": "dNuN03yXyuNW",
        "outputId": "c16f80b2-a04c-48f6-a195-6558f75d9577"
      },
      "execution_count": 14,
      "outputs": [
        {
          "output_type": "stream",
          "name": "stdout",
          "text": [
            "Parameter containing:\n",
            "tensor([0.3367], requires_grad=True)\n",
            "Parameter containing:\n",
            "tensor([0.1288], requires_grad=True)\n"
          ]
        }
      ]
    },
    {
      "cell_type": "code",
      "source": [
        "\n",
        "##list named parameters dict()\n",
        "model_0.state_dict()"
      ],
      "metadata": {
        "colab": {
          "base_uri": "https://localhost:8080/"
        },
        "id": "9G3wOogvywF4",
        "outputId": "b28c1e8b-7600-402d-bdb1-2ff4204d821c"
      },
      "execution_count": 15,
      "outputs": [
        {
          "output_type": "execute_result",
          "data": {
            "text/plain": [
              "OrderedDict([('weights', tensor([0.3367])), ('bias', tensor([0.1288]))])"
            ]
          },
          "metadata": {},
          "execution_count": 15
        }
      ]
    },
    {
      "cell_type": "markdown",
      "source": [
        "## Making prediction using `torch.inference_mode()`"
      ],
      "metadata": {
        "id": "TugZ1fgbzti2"
      }
    },
    {
      "cell_type": "code",
      "source": [
        "\n",
        "with torch.inference_mode():\n",
        "  y_preds= model_0(X_test)\n",
        "y_preds\n",
        "\n",
        "with torch.no_grad():    ## same as inference mode\n",
        "   y_preds= model_0(X_test)\n",
        "y_preds"
      ],
      "metadata": {
        "colab": {
          "base_uri": "https://localhost:8080/"
        },
        "id": "-8J8Yfds1PCX",
        "outputId": "3a1d2fb5-0da4-4caa-f032-d157d761c9dd"
      },
      "execution_count": 16,
      "outputs": [
        {
          "output_type": "execute_result",
          "data": {
            "text/plain": [
              "tensor([[0.3982],\n",
              "        [0.4049],\n",
              "        [0.4116],\n",
              "        [0.4184],\n",
              "        [0.4251],\n",
              "        [0.4318],\n",
              "        [0.4386],\n",
              "        [0.4453],\n",
              "        [0.4520],\n",
              "        [0.4588]])"
            ]
          },
          "metadata": {},
          "execution_count": 16
        }
      ]
    },
    {
      "cell_type": "code",
      "source": [
        "plot_prediction( predictions=y_preds)"
      ],
      "metadata": {
        "colab": {
          "base_uri": "https://localhost:8080/",
          "height": 428
        },
        "id": "HsH4v9tO2Mgv",
        "outputId": "c6d6ae06-11c9-4c9d-93de-de1e31c65a3b"
      },
      "execution_count": 17,
      "outputs": [
        {
          "output_type": "display_data",
          "data": {
            "text/plain": [
              "<Figure size 720x504 with 1 Axes>"
            ],
            "image/png": "[encoded data removed]"
          },
          "metadata": {
            "needs_background": "light"
          }
        }
      ]
    },
    {
      "cell_type": "markdown",
      "source": [
        "## Train model\n",
        "\n"
      ],
      "metadata": {
        "id": "JYi8zb664Xfl"
      }
    },
    {
      "cell_type": "code",
      "source": [
        "#setup a loss function\n",
        "loss_fn= nn.L1Loss()\n",
        "\n",
        "#setup a optimizer\n",
        "optimizer= torch.optim.SGD(params=model_0.parameters(),lr=0.01)"
      ],
      "metadata": {
        "id": "PLAzHwt8xBYi"
      },
      "execution_count": 18,
      "outputs": []
    },
    {
      "cell_type": "code",
      "source": [
        "optimizer"
      ],
      "metadata": {
        "colab": {
          "base_uri": "https://localhost:8080/"
        },
        "id": "HyDPCW-n5SHc",
        "outputId": "dbcb742a-518b-48ee-fc00-6b4ace3c5bc8"
      },
      "execution_count": 19,
      "outputs": [
        {
          "output_type": "execute_result",
          "data": {
            "text/plain": [
              "SGD (\n",
              "Parameter Group 0\n",
              "    dampening: 0\n",
              "    foreach: None\n",
              "    lr: 0.01\n",
              "    maximize: False\n",
              "    momentum: 0\n",
              "    nesterov: False\n",
              "    weight_decay: 0\n",
              ")"
            ]
          },
          "metadata": {},
          "execution_count": 19
        }
      ]
    },
    {
      "cell_type": "markdown",
      "source": [
        "## Building a training loop (and a testing loop) in PyTorch\n",
        "\n",
        "\n"
      ],
      "metadata": {
        "id": "KjpywLCF5YG5"
      }
    },
    {
      "cell_type": "markdown",
      "source": [
        "1. Forward pass\n",
        "2. Calculate the loss\n",
        "3. Zero gradients\n",
        "5. Perform backpropagation on the loss\n",
        "4. Update the optimizer (gradient descent)"
      ],
      "metadata": {
        "id": "SHxGuDlu5T3G"
      }
    },
    {
      "cell_type": "code",
      "source": [
        "with torch.inference_mode():\n",
        "  mode=list(model_0.parameters())\n",
        "print(mode)"
      ],
      "metadata": {
        "colab": {
          "base_uri": "https://localhost:8080/"
        },
        "id": "0XIyCfDS7uen",
        "outputId": "4ac8514e-c7fa-4ac8-bee2-8c95f74adcb6"
      },
      "execution_count": 20,
      "outputs": [
        {
          "output_type": "stream",
          "name": "stdout",
          "text": [
            "[Parameter containing:\n",
            "tensor([0.3367], requires_grad=True), Parameter containing:\n",
            "tensor([0.1288], requires_grad=True)]\n"
          ]
        }
      ]
    },
    {
      "cell_type": "code",
      "source": [
        "## an epoch is one loop through the data..\n",
        "epoch=100\n",
        "\n",
        "## Track differenct values\n",
        "\n",
        "epoch_count=[]\n",
        "loss_values=[]\n",
        "test_loss=[]\n",
        "##loop through the data\n",
        "for epoch in range(epoch):\n",
        "    ## set the model to training mode\n",
        "    model_0.train() ## train mode in PyTorch sets all parameters that require gradients to require gradients\n",
        "\n",
        "    pred=model_0(X_train) ## forward pass and get the prediction result\n",
        "\n",
        "    ## loss function\n",
        "    loss=loss_fn(y_train,pred) ## calculate the loss\n",
        "\n",
        "    ## zero the gradient\n",
        "\n",
        "    optimizer.zero_grad()\n",
        "\n",
        "    ## backpropaget and calculate the gradient\n",
        "    loss.backward()\n",
        "\n",
        "    ###Progress the optimizer\n",
        "    optimizer.step()\n",
        "\n",
        "    ## Testing\n",
        "    model_0.eval() ## turns off different settings in the model not need for evaluation\n",
        "\n",
        "    with torch.inference_mode(): ## turns off gradient tracking & couple of things same as torch.no_grad()\n",
        "         # 1. do the forward pass\n",
        "         test_pred= model_0(X_test)\n",
        "         # 2.calculate the loss\n",
        "         test_loss1= loss_fn(test_pred,y_test)\n",
        "    if epoch %10 ==0:\n",
        "        epoch_count.append(epoch)\n",
        "        loss_values.append(loss.item())\n",
        "        test_loss.append(test_loss1.item())\n",
        "        print(f\"Epoch: {epoch } | Loss : {loss} | Test Loss : {test_loss}\")\n",
        "        print(model_0.state_dict())\n",
        "\n",
        "\n"
      ],
      "metadata": {
        "id": "wyHoftu060f4",
        "colab": {
          "base_uri": "https://localhost:8080/"
        },
        "outputId": "a57e483f-17b8-4b2c-bf30-eb6d71b84aa8"
      },
      "execution_count": 21,
      "outputs": [
        {
          "output_type": "stream",
          "name": "stdout",
          "text": [
            "Epoch: 0 | Loss : 0.31288138031959534 | Test Loss : [0.48106518387794495]\n",
            "OrderedDict([('weights', tensor([0.3406])), ('bias', tensor([0.1388]))])\n",
            "Epoch: 10 | Loss : 0.1976713240146637 | Test Loss : [0.48106518387794495, 0.3463551998138428]\n",
            "OrderedDict([('weights', tensor([0.3796])), ('bias', tensor([0.2388]))])\n",
            "Epoch: 20 | Loss : 0.08908725529909134 | Test Loss : [0.48106518387794495, 0.3463551998138428, 0.21729660034179688]\n",
            "OrderedDict([('weights', tensor([0.4184])), ('bias', tensor([0.3333]))])\n",
            "Epoch: 30 | Loss : 0.053148526698350906 | Test Loss : [0.48106518387794495, 0.3463551998138428, 0.21729660034179688, 0.14464017748832703]\n",
            "OrderedDict([('weights', tensor([0.4512])), ('bias', tensor([0.3768]))])\n",
            "Epoch: 40 | Loss : 0.04543796554207802 | Test Loss : [0.48106518387794495, 0.3463551998138428, 0.21729660034179688, 0.14464017748832703, 0.11360953003168106]\n",
            "OrderedDict([('weights', tensor([0.4748])), ('bias', tensor([0.3868]))])\n",
            "Epoch: 50 | Loss : 0.04167863354086876 | Test Loss : [0.48106518387794495, 0.3463551998138428, 0.21729660034179688, 0.14464017748832703, 0.11360953003168106, 0.09919948130846024]\n",
            "OrderedDict([('weights', tensor([0.4938])), ('bias', tensor([0.3843]))])\n",
            "Epoch: 60 | Loss : 0.03818932920694351 | Test Loss : [0.48106518387794495, 0.3463551998138428, 0.21729660034179688, 0.14464017748832703, 0.11360953003168106, 0.09919948130846024, 0.08886633068323135]\n",
            "OrderedDict([('weights', tensor([0.5116])), ('bias', tensor([0.3788]))])\n",
            "Epoch: 70 | Loss : 0.03476089984178543 | Test Loss : [0.48106518387794495, 0.3463551998138428, 0.21729660034179688, 0.14464017748832703, 0.11360953003168106, 0.09919948130846024, 0.08886633068323135, 0.0805937647819519]\n",
            "OrderedDict([('weights', tensor([0.5288])), ('bias', tensor([0.3718]))])\n",
            "Epoch: 80 | Loss : 0.03132382780313492 | Test Loss : [0.48106518387794495, 0.3463551998138428, 0.21729660034179688, 0.14464017748832703, 0.11360953003168106, 0.09919948130846024, 0.08886633068323135, 0.0805937647819519, 0.07232122868299484]\n",
            "OrderedDict([('weights', tensor([0.5459])), ('bias', tensor([0.3648]))])\n",
            "Epoch: 90 | Loss : 0.02788739837706089 | Test Loss : [0.48106518387794495, 0.3463551998138428, 0.21729660034179688, 0.14464017748832703, 0.11360953003168106, 0.09919948130846024, 0.08886633068323135, 0.0805937647819519, 0.07232122868299484, 0.06473556160926819]\n",
            "OrderedDict([('weights', tensor([0.5629])), ('bias', tensor([0.3573]))])\n"
          ]
        }
      ]
    },
    {
      "cell_type": "code",
      "source": [
        "plt.plot(epoch_count,loss_values,label=\"Train_loss\")\n",
        "plt.plot(epoch_count,test_loss,label=\"Test_loss\")\n",
        "plt.title(\"Train And Test loss curve\")\n",
        "plt.legend(prop={\"size\":14})\n",
        "plt.ylabel(\"Loss\")\n",
        "plt.xlabel(\"epoch\")"
      ],
      "metadata": {
        "colab": {
          "base_uri": "https://localhost:8080/",
          "height": 312
        },
        "id": "ue__CkpoEYV8",
        "outputId": "15e50e3b-4282-4eac-8e18-ccf360013c8c"
      },
      "execution_count": 22,
      "outputs": [
        {
          "output_type": "execute_result",
          "data": {
            "text/plain": [
              "Text(0.5, 0, 'epoch')"
            ]
          },
          "metadata": {},
          "execution_count": 22
        },
        {
          "output_type": "display_data",
          "data": {
            "text/plain": [
              "<Figure size 432x288 with 1 Axes>"
            ],
            "image/png": "[encoded data removed]"
          },
          "metadata": {
            "needs_background": "light"
          }
        }
      ]
    },
    {
      "cell_type": "code",
      "source": [
        "model_0.state_dict()"
      ],
      "metadata": {
        "colab": {
          "base_uri": "https://localhost:8080/"
        },
        "id": "eObW6bODImOW",
        "outputId": "20561235-103c-471f-fdf0-3ea68801e500"
      },
      "execution_count": 23,
      "outputs": [
        {
          "output_type": "execute_result",
          "data": {
            "text/plain": [
              "OrderedDict([('weights', tensor([0.5784])), ('bias', tensor([0.3513]))])"
            ]
          },
          "metadata": {},
          "execution_count": 23
        }
      ]
    },
    {
      "cell_type": "code",
      "source": [
        "with torch.inference_mode():\n",
        "  y_pred=model_0(X_test)"
      ],
      "metadata": {
        "id": "UI203jlTB6hr"
      },
      "execution_count": 24,
      "outputs": []
    },
    {
      "cell_type": "code",
      "source": [
        "plot_prediction( predictions=y_preds)  #orginal random weigth and bias"
      ],
      "metadata": {
        "colab": {
          "base_uri": "https://localhost:8080/",
          "height": 428
        },
        "id": "44B_J5tNDZS_",
        "outputId": "b98b6d65-7ba4-4207-cb8f-2eb215783a37"
      },
      "execution_count": 25,
      "outputs": [
        {
          "output_type": "display_data",
          "data": {
            "text/plain": [
              "<Figure size 720x504 with 1 Axes>"
            ],
            "image/png": "[encoded data removed]"
          },
          "metadata": {
            "needs_background": "light"
          }
        }
      ]
    },
    {
      "cell_type": "code",
      "source": [
        "plot_prediction( predictions=y_pred)  #trained model"
      ],
      "metadata": {
        "id": "LTU6pwqWIpH-",
        "colab": {
          "base_uri": "https://localhost:8080/",
          "height": 428
        },
        "outputId": "372f6e96-7bfe-4a66-fa1e-ddb9d6c00926"
      },
      "execution_count": 26,
      "outputs": [
        {
          "output_type": "display_data",
          "data": {
            "text/plain": [
              "<Figure size 720x504 with 1 Axes>"
            ],
            "image/png": "[encoded data removed]"
          },
          "metadata": {
            "needs_background": "light"
          }
        }
      ]
    },
    {
      "cell_type": "markdown",
      "source": [
        "## saving and loading a model in pytorch\n",
        "\n",
        "There are three main methods you shoild know about for saving and loading models in PyTorch.\n",
        "\n",
        "1. `torch.save()` -allows you to save PyTorch  onject in Pythons pickle format\n",
        "2. `torch.load()` - allows you to load a saved PyTorch object\n",
        "3. `torch.nn.Module.load_state_dict()` - this allows to load a model's saved state dictionary"
      ],
      "metadata": {
        "id": "DS2mi5cMIZH9"
      }
    },
    {
      "cell_type": "code",
      "source": [
        "from pathlib import Path as path\n",
        "\n",
        "## 1.create models directory\n",
        "\n",
        "MODEL_PATH = path(\"models\")\n",
        "MODEL_PATH.mkdir(parents=True,exist_ok=True)\n",
        "  \n",
        "##2. Create model save parameter\n",
        "MODEL_NAME= \"save_model_0.pth\"\n",
        "MODEL_SAVE_PATH= MODEL_PATH / MODEL_NAME\n",
        "\n",
        "# save the model state dict\n",
        "print(f\"Saving model to: {MODEL_SAVE_PATH}\")\n",
        "torch.save(obj=model_0.state_dict(),f=MODEL_SAVE_PATH)"
      ],
      "metadata": {
        "colab": {
          "base_uri": "https://localhost:8080/"
        },
        "id": "Rzz-1595Id6Z",
        "outputId": "b3945ef0-2d6a-4408-a47c-d023ee6341eb"
      },
      "execution_count": 27,
      "outputs": [
        {
          "output_type": "stream",
          "name": "stdout",
          "text": [
            "Saving model to: models/save_model_0.pth\n"
          ]
        }
      ]
    },
    {
      "cell_type": "markdown",
      "source": [
        "## Loading a PyTorch model\n",
        "\n",
        "Since we saved our model's state_dict() rather the entire model, we'll create a new instance of our model class and load the saved state_dict() into that."
      ],
      "metadata": {
        "id": "v36zvD5XdApl"
      }
    },
    {
      "cell_type": "code",
      "source": [
        "loaded_model_0= linearregression()  #create instance \n",
        "\n",
        "## load the saved state_dict of model_0 (this will update a new instance with updated params)\n",
        "\n",
        "loaded_model_0.load_state_dict(torch.load(MODEL_SAVE_PATH))"
      ],
      "metadata": {
        "colab": {
          "base_uri": "https://localhost:8080/"
        },
        "id": "inJcwJGWeSZV",
        "outputId": "37ef0410-dc5b-43dc-b4e2-97b454af9bc6"
      },
      "execution_count": 28,
      "outputs": [
        {
          "output_type": "execute_result",
          "data": {
            "text/plain": [
              "<All keys matched successfully>"
            ]
          },
          "metadata": {},
          "execution_count": 28
        }
      ]
    },
    {
      "cell_type": "code",
      "source": [
        "loaded_model_0.state_dict()"
      ],
      "metadata": {
        "colab": {
          "base_uri": "https://localhost:8080/"
        },
        "id": "SU7R99pce4W7",
        "outputId": "65e25de2-7e47-43eb-b3c4-7e16475f2346"
      },
      "execution_count": 29,
      "outputs": [
        {
          "output_type": "execute_result",
          "data": {
            "text/plain": [
              "OrderedDict([('weights', tensor([0.5784])), ('bias', tensor([0.3513]))])"
            ]
          },
          "metadata": {},
          "execution_count": 29
        }
      ]
    },
    {
      "cell_type": "code",
      "source": [
        "loaded_model_0.eval()\n",
        "with torch.inference_mode():\n",
        "   load_pred=loaded_model_0(X_test)\n",
        "print(load_pred)"
      ],
      "metadata": {
        "colab": {
          "base_uri": "https://localhost:8080/"
        },
        "id": "Dr3CNSMlfPeq",
        "outputId": "b9df20c5-6c16-4dc7-dfdd-33be5fc03803"
      },
      "execution_count": 30,
      "outputs": [
        {
          "output_type": "stream",
          "name": "stdout",
          "text": [
            "tensor([[0.8141],\n",
            "        [0.8256],\n",
            "        [0.8372],\n",
            "        [0.8488],\n",
            "        [0.8603],\n",
            "        [0.8719],\n",
            "        [0.8835],\n",
            "        [0.8950],\n",
            "        [0.9066],\n",
            "        [0.9182]])\n"
          ]
        }
      ]
    },
    {
      "cell_type": "code",
      "source": [
        "y_pred==load_pred"
      ],
      "metadata": {
        "colab": {
          "base_uri": "https://localhost:8080/"
        },
        "id": "sl8LRG_MfeIG",
        "outputId": "027c5412-39d0-4fff-b231-de9b11fff68b"
      },
      "execution_count": 31,
      "outputs": [
        {
          "output_type": "execute_result",
          "data": {
            "text/plain": [
              "tensor([[True],\n",
              "        [True],\n",
              "        [True],\n",
              "        [True],\n",
              "        [True],\n",
              "        [True],\n",
              "        [True],\n",
              "        [True],\n",
              "        [True],\n",
              "        [True]])"
            ]
          },
          "metadata": {},
          "execution_count": 31
        }
      ]
    },
    {
      "cell_type": "markdown",
      "source": [
        "## putting it all together"
      ],
      "metadata": {
        "id": "N2Co1dQYgZqo"
      }
    },
    {
      "cell_type": "code",
      "source": [
        "import torch\n",
        "from torch import nn\n",
        "import matplotlib.pyplot as plt\n",
        "\n",
        "#check pytorch version\n",
        "\n",
        "torch.__version__"
      ],
      "metadata": {
        "colab": {
          "base_uri": "https://localhost:8080/",
          "height": 36
        },
        "id": "1jhmlhf3gcoD",
        "outputId": "ceff103a-6960-4c8d-89ac-b678f5200385"
      },
      "execution_count": 32,
      "outputs": [
        {
          "output_type": "execute_result",
          "data": {
            "text/plain": [
              "'1.12.1+cu113'"
            ],
            "application/vnd.google.colaboratory.intrinsic+json": {
              "type": "string"
            }
          },
          "metadata": {},
          "execution_count": 32
        }
      ]
    },
    {
      "cell_type": "code",
      "source": [
        "## setup device agnostic code\n",
        "device=\"cuda\" if torch.cuda.is_available() else \"cpu\"\n",
        "device"
      ],
      "metadata": {
        "colab": {
          "base_uri": "https://localhost:8080/",
          "height": 36
        },
        "id": "PKeMNHlYg-6S",
        "outputId": "178150d2-fcf9-4ee4-a408-3a006e041c3e"
      },
      "execution_count": 33,
      "outputs": [
        {
          "output_type": "execute_result",
          "data": {
            "text/plain": [
              "'cpu'"
            ],
            "application/vnd.google.colaboratory.intrinsic+json": {
              "type": "string"
            }
          },
          "metadata": {},
          "execution_count": 33
        }
      ]
    },
    {
      "cell_type": "markdown",
      "source": [
        "##Data"
      ],
      "metadata": {
        "id": "mk9bFBd1if68"
      }
    },
    {
      "cell_type": "code",
      "source": [
        "weight = 0.7\n",
        "bias= 0.3\n",
        "\n",
        "start= 0\n",
        "end=1\n",
        "step=0.02\n",
        "\n",
        "x= torch.arange(start,end,step)\n",
        "y= weight*x + bias\n",
        "x[:10],y[:10]"
      ],
      "metadata": {
        "colab": {
          "base_uri": "https://localhost:8080/"
        },
        "id": "8L41iva7hThy",
        "outputId": "29b020ea-71cf-49d7-9958-9a6849705690"
      },
      "execution_count": 52,
      "outputs": [
        {
          "output_type": "execute_result",
          "data": {
            "text/plain": [
              "(tensor([0.0000, 0.0200, 0.0400, 0.0600, 0.0800, 0.1000, 0.1200, 0.1400, 0.1600,\n",
              "         0.1800]),\n",
              " tensor([0.3000, 0.3140, 0.3280, 0.3420, 0.3560, 0.3700, 0.3840, 0.3980, 0.4120,\n",
              "         0.4260]))"
            ]
          },
          "metadata": {},
          "execution_count": 52
        }
      ]
    },
    {
      "cell_type": "code",
      "source": [
        "x.detach()  ## to off the autograd"
      ],
      "metadata": {
        "colab": {
          "base_uri": "https://localhost:8080/"
        },
        "id": "fDSQhEdMxZdj",
        "outputId": "da4c736b-8431-4672-9119-a387066f8727"
      },
      "execution_count": 50,
      "outputs": [
        {
          "output_type": "execute_result",
          "data": {
            "text/plain": [
              "tensor([0.0000, 0.0200, 0.0400, 0.0600, 0.0800, 0.1000, 0.1200, 0.1400, 0.1600,\n",
              "        0.1800, 0.2000, 0.2200, 0.2400, 0.2600, 0.2800, 0.3000, 0.3200, 0.3400,\n",
              "        0.3600, 0.3800, 0.4000, 0.4200, 0.4400, 0.4600, 0.4800, 0.5000, 0.5200,\n",
              "        0.5400, 0.5600, 0.5800, 0.6000, 0.6200, 0.6400, 0.6600, 0.6800, 0.7000,\n",
              "        0.7200, 0.7400, 0.7600, 0.7800, 0.8000, 0.8200, 0.8400, 0.8600, 0.8800,\n",
              "        0.9000, 0.9200, 0.9400, 0.9600, 0.9800])"
            ]
          },
          "metadata": {},
          "execution_count": 50
        }
      ]
    },
    {
      "cell_type": "markdown",
      "source": [
        "## Train test split"
      ],
      "metadata": {
        "id": "bdflhhh1jGGL"
      }
    },
    {
      "cell_type": "code",
      "source": [
        "train_split= int(0.8 * len(x))\n",
        "x_train,y_train=x[:train_split],y[:train_split]\n",
        "x_test,y_test=x[train_split:],y[train_split:]\n",
        "\n",
        "len(x_train),len(y_train),len(x_test),len(y_test)"
      ],
      "metadata": {
        "colab": {
          "base_uri": "https://localhost:8080/"
        },
        "id": "xZGvMkzOi-J2",
        "outputId": "87dd33a5-9ac2-45b2-fa85-01930ac3b30d"
      },
      "execution_count": 35,
      "outputs": [
        {
          "output_type": "execute_result",
          "data": {
            "text/plain": [
              "(40, 40, 10, 10)"
            ]
          },
          "metadata": {},
          "execution_count": 35
        }
      ]
    },
    {
      "cell_type": "markdown",
      "source": [
        "##visualize"
      ],
      "metadata": {
        "id": "ySSllTlIjzKN"
      }
    },
    {
      "cell_type": "code",
      "source": [
        "def plot_prediction(x_train=x_train,y_train=y_train,x_test=x_test,y_test=y_test,prediction=None):\n",
        "  plt.figure(figsize=(10,7))\n",
        "  plt.scatter(x_train,y_train,color=\"red\",label=\"training_data\")\n",
        "  plt.scatter(x_test,y_test,color=\"pink\",label=\"test_data\")\n",
        "  if prediction != None:\n",
        "    plt.scatter(prediction,y_test,color=\"blue\",label=\"prediction\")\n",
        "  plt.legend(prop={\"size\":14})\n",
        "  plt.show()"
      ],
      "metadata": {
        "id": "6O_XnCqwjwuK"
      },
      "execution_count": 36,
      "outputs": []
    },
    {
      "cell_type": "code",
      "source": [
        "plot_prediction()"
      ],
      "metadata": {
        "colab": {
          "base_uri": "https://localhost:8080/",
          "height": 428
        },
        "id": "Ck0O4Vpkk8i-",
        "outputId": "21c6d717-aa89-492e-b49e-2fb77b641957"
      },
      "execution_count": 37,
      "outputs": [
        {
          "output_type": "display_data",
          "data": {
            "text/plain": [
              "<Figure size 720x504 with 1 Axes>"
            ],
            "image/png": "[encoded data removed]"
          },
          "metadata": {
            "needs_background": "light"
          }
        }
      ]
    },
    {
      "cell_type": "markdown",
      "source": [
        "## Building a Pytorch linear model"
      ],
      "metadata": {
        "id": "hg2zBTyPlqlQ"
      }
    },
    {
      "cell_type": "code",
      "source": [
        "## building model using nn.Linear\n",
        "\n",
        "class LinerRegression(nn.Module):\n",
        "  def __init__(self):\n",
        "    super().__init__()\n",
        "    self.liner_layer= nn.Liner(in_feature=1,out_features=1)\n",
        "  def forward(self,x:torch.Tensor)->torch.Tensor:\n",
        "    return self.linear_layer(x)"
      ],
      "metadata": {
        "id": "0vKEq_KVlpqV"
      },
      "execution_count": 38,
      "outputs": []
    },
    {
      "cell_type": "code",
      "source": [
        "torch.manual_seed(42)\n",
        "model=linearregression()"
      ],
      "metadata": {
        "id": "uaGkWv00lp0u"
      },
      "execution_count": 39,
      "outputs": []
    },
    {
      "cell_type": "code",
      "source": [
        "## state_dict\n",
        "from pprint import pprint \n",
        "pprint(model.state_dict())"
      ],
      "metadata": {
        "colab": {
          "base_uri": "https://localhost:8080/"
        },
        "id": "3Bv1_osNlBn1",
        "outputId": "0b03cb57-9190-4c34-8169-1d987b136eb1"
      },
      "execution_count": 40,
      "outputs": [
        {
          "output_type": "stream",
          "name": "stdout",
          "text": [
            "OrderedDict([('weights', tensor([0.3367])), ('bias', tensor([0.1288]))])\n"
          ]
        }
      ]
    },
    {
      "cell_type": "code",
      "source": [
        "next(model.parameters()).device"
      ],
      "metadata": {
        "colab": {
          "base_uri": "https://localhost:8080/"
        },
        "id": "sKtS5UKny0JA",
        "outputId": "4987e8a1-8578-4154-cf2d-a1c7751d28ca"
      },
      "execution_count": 41,
      "outputs": [
        {
          "output_type": "execute_result",
          "data": {
            "text/plain": [
              "device(type='cpu')"
            ]
          },
          "metadata": {},
          "execution_count": 41
        }
      ]
    },
    {
      "cell_type": "code",
      "source": [
        "model.to(device)"
      ],
      "metadata": {
        "colab": {
          "base_uri": "https://localhost:8080/"
        },
        "id": "zJtBzZxAy0Vg",
        "outputId": "f8490d25-b4f9-4899-82d1-718226402c40"
      },
      "execution_count": 42,
      "outputs": [
        {
          "output_type": "execute_result",
          "data": {
            "text/plain": [
              "linearregression()"
            ]
          },
          "metadata": {},
          "execution_count": 42
        }
      ]
    },
    {
      "cell_type": "code",
      "source": [
        "model.eval()\n",
        "with torch.inference_mode():\n",
        "  y_pred=model(x_test)\n",
        "plot_prediction(prediction=y_pred)"
      ],
      "metadata": {
        "colab": {
          "base_uri": "https://localhost:8080/",
          "height": 428
        },
        "id": "y9Hon1g2r_xn",
        "outputId": "15341ca0-aa28-4385-f528-5ef1cf3e5e0d"
      },
      "execution_count": 43,
      "outputs": [
        {
          "output_type": "display_data",
          "data": {
            "text/plain": [
              "<Figure size 720x504 with 1 Axes>"
            ],
            "image/png": "[encoded data removed]"
          },
          "metadata": {
            "needs_background": "light"
          }
        }
      ]
    },
    {
      "cell_type": "markdown",
      "source": [
        "##Training"
      ],
      "metadata": {
        "id": "TyxQWZ2HzZ7a"
      }
    },
    {
      "cell_type": "code",
      "source": [
        "loss_fn=nn.L1Loss()\n",
        "\n",
        "#create optimizer\n",
        "\n",
        "optimizer= torch.optim.SGD(params=model.parameters(),lr=0.01)\n",
        "\n"
      ],
      "metadata": {
        "id": "G9mYmIknvYgc"
      },
      "execution_count": 44,
      "outputs": []
    },
    {
      "cell_type": "code",
      "source": [
        "optimizer.state_dict()"
      ],
      "metadata": {
        "colab": {
          "base_uri": "https://localhost:8080/"
        },
        "id": "DGeceRkkumiA",
        "outputId": "14d66966-7770-40d6-c9f2-8c91367ddbd3"
      },
      "execution_count": 45,
      "outputs": [
        {
          "output_type": "execute_result",
          "data": {
            "text/plain": [
              "{'state': {},\n",
              " 'param_groups': [{'lr': 0.01,\n",
              "   'momentum': 0,\n",
              "   'dampening': 0,\n",
              "   'weight_decay': 0,\n",
              "   'nesterov': False,\n",
              "   'maximize': False,\n",
              "   'foreach': None,\n",
              "   'params': [0, 1]}]}"
            ]
          },
          "metadata": {},
          "execution_count": 45
        }
      ]
    },
    {
      "cell_type": "markdown",
      "source": [
        "## Training loop"
      ],
      "metadata": {
        "id": "U-VvfmZOs1P1"
      }
    },
    {
      "cell_type": "code",
      "source": [
        "epoch=300\n",
        "train_loss=[]\n",
        "test_loss=[]\n",
        "epoch_count=[]\n",
        "x_train=x_train.to(device)\n",
        "y_train=y_train.to(device)\n",
        "x_test=x_test.to(device)\n",
        "y_test=y_test.to(device)\n",
        "for epoch in range(epoch):\n",
        "  ## set the model in train mode\n",
        "  model.train()\n",
        "  ## forward pass\n",
        "  y_pred=model(x_train)\n",
        "  ##calculate the loss\n",
        "  loss_train=loss_fn(y_pred,y_train)\n",
        "  ## zero the gradient for every fresh epoch\n",
        "  optimizer.zero_grad()\n",
        "  ## calculate the gradient\n",
        "  loss_train.backward()\n",
        "  ## update the weights\n",
        "  optimizer.step()\n",
        "\n",
        "  ## evaluatuion\n",
        "  model.eval()\n",
        "  with torch.inference_mode():\n",
        "    y_pred=model(x_test)\n",
        "    loss_test=loss_fn(y_pred,y_test)\n",
        "  if epoch%10==0:\n",
        "    epoch_count.append(epoch)\n",
        "    train_loss.append(loss_train.detach().numpy())\n",
        "    test_loss.append(loss_test.detach().numpy())\n",
        "    print(f\"Epoch: {epoch} | MAE Train Loss: {loss_train} | MAE Test Loss: {loss_test} \")\n"
      ],
      "metadata": {
        "id": "SER2F-6jz03L",
        "colab": {
          "base_uri": "https://localhost:8080/"
        },
        "outputId": "80e94f38-2fa1-4fcf-f21d-643347c753ba"
      },
      "execution_count": 57,
      "outputs": [
        {
          "output_type": "stream",
          "name": "stdout",
          "text": [
            "Epoch: 0 | MAE Train Loss: 0.3013603389263153 | MAE Test Loss: 0.4675942063331604 \n",
            "Epoch: 10 | MAE Train Loss: 0.18615034222602844 | MAE Test Loss: 0.3328842222690582 \n",
            "Epoch: 20 | MAE Train Loss: 0.08227583020925522 | MAE Test Loss: 0.2069590985774994 \n",
            "Epoch: 30 | MAE Train Loss: 0.05181945487856865 | MAE Test Loss: 0.14023718237876892 \n",
            "Epoch: 40 | MAE Train Loss: 0.04503796249628067 | MAE Test Loss: 0.11182951927185059 \n",
            "Epoch: 50 | MAE Train Loss: 0.04132963344454765 | MAE Test Loss: 0.09809747338294983 \n",
            "Epoch: 60 | MAE Train Loss: 0.03785243630409241 | MAE Test Loss: 0.08776430785655975 \n",
            "Epoch: 70 | MAE Train Loss: 0.03441363573074341 | MAE Test Loss: 0.0794917643070221 \n",
            "Epoch: 80 | MAE Train Loss: 0.030979642644524574 | MAE Test Loss: 0.07190609723329544 \n",
            "Epoch: 90 | MAE Train Loss: 0.02754882536828518 | MAE Test Loss: 0.06363357603549957 \n",
            "Epoch: 100 | MAE Train Loss: 0.024110013619065285 | MAE Test Loss: 0.05536102131009102 \n",
            "Epoch: 110 | MAE Train Loss: 0.020677709951996803 | MAE Test Loss: 0.04777535796165466 \n",
            "Epoch: 120 | MAE Train Loss: 0.017245199531316757 | MAE Test Loss: 0.0395028181374073 \n",
            "Epoch: 130 | MAE Train Loss: 0.013806397095322609 | MAE Test Loss: 0.031230276450514793 \n",
            "Epoch: 140 | MAE Train Loss: 0.010375778190791607 | MAE Test Loss: 0.023644620552659035 \n",
            "Epoch: 150 | MAE Train Loss: 0.006941580679267645 | MAE Test Loss: 0.0153720797970891 \n",
            "Epoch: 160 | MAE Train Loss: 0.0035027749836444855 | MAE Test Loss: 0.007099539041519165 \n",
            "Epoch: 170 | MAE Train Loss: 0.0025885067880153656 | MAE Test Loss: 0.008447891101241112 \n",
            "Epoch: 180 | MAE Train Loss: 0.0025885067880153656 | MAE Test Loss: 0.008447891101241112 \n",
            "Epoch: 190 | MAE Train Loss: 0.0025885067880153656 | MAE Test Loss: 0.008447891101241112 \n",
            "Epoch: 200 | MAE Train Loss: 0.0025885067880153656 | MAE Test Loss: 0.008447891101241112 \n",
            "Epoch: 210 | MAE Train Loss: 0.0025885067880153656 | MAE Test Loss: 0.008447891101241112 \n",
            "Epoch: 220 | MAE Train Loss: 0.0025885067880153656 | MAE Test Loss: 0.008447891101241112 \n",
            "Epoch: 230 | MAE Train Loss: 0.0025885067880153656 | MAE Test Loss: 0.008447891101241112 \n",
            "Epoch: 240 | MAE Train Loss: 0.0025885067880153656 | MAE Test Loss: 0.008447891101241112 \n",
            "Epoch: 250 | MAE Train Loss: 0.0025885067880153656 | MAE Test Loss: 0.008447891101241112 \n",
            "Epoch: 260 | MAE Train Loss: 0.0025885067880153656 | MAE Test Loss: 0.008447891101241112 \n",
            "Epoch: 270 | MAE Train Loss: 0.0025885067880153656 | MAE Test Loss: 0.008447891101241112 \n",
            "Epoch: 280 | MAE Train Loss: 0.0025885067880153656 | MAE Test Loss: 0.008447891101241112 \n",
            "Epoch: 290 | MAE Train Loss: 0.0025885067880153656 | MAE Test Loss: 0.008447891101241112 \n"
          ]
        }
      ]
    },
    {
      "cell_type": "code",
      "source": [
        "model.eval()\n",
        "with torch.inference_mode():\n",
        "  y_pred=model(x_test)\n",
        "plot_prediction(prediction=y_pred)"
      ],
      "metadata": {
        "colab": {
          "base_uri": "https://localhost:8080/",
          "height": 428
        },
        "id": "ANhdo7A-x30O",
        "outputId": "999f2b9f-87c1-41e8-b155-4a5a449b3119"
      },
      "execution_count": 58,
      "outputs": [
        {
          "output_type": "display_data",
          "data": {
            "text/plain": [
              "<Figure size 720x504 with 1 Axes>"
            ],
            "image/png": "[encoded data removed]"
          },
          "metadata": {
            "needs_background": "light"
          }
        }
      ]
    },
    {
      "cell_type": "markdown",
      "source": [
        "\n",
        "## save the model"
      ],
      "metadata": {
        "id": "iTmd5M-wyX5M"
      }
    },
    {
      "cell_type": "code",
      "source": [
        "torch.save(obj=model.state_dict(),f=\"model.pth\")"
      ],
      "metadata": {
        "id": "kcWc14wnyTTN"
      },
      "execution_count": 59,
      "outputs": []
    },
    {
      "cell_type": "code",
      "source": [
        "# Find our model's learned parameters\n",
        "from pprint import pprint # pprint = pretty print, see: https://docs.python.org/3/library/pprint.html \n",
        "print(\"The model learned the following values for weights and bias:\")\n",
        "pprint(model.state_dict())\n",
        "print(\"\\nAnd the original values for weights and bias are:\")\n",
        "print(f\"weights: {weight}, bias: {bias}\")"
      ],
      "metadata": {
        "colab": {
          "base_uri": "https://localhost:8080/"
        },
        "id": "MQ1Y-NPyym2m",
        "outputId": "2853428b-06c7-46bc-8c27-bbe11a05fdf5"
      },
      "execution_count": 62,
      "outputs": [
        {
          "output_type": "stream",
          "name": "stdout",
          "text": [
            "The model learned the following values for weights and bias:\n",
            "OrderedDict([('weights', tensor([0.6951])), ('bias', tensor([0.2993]))])\n",
            "\n",
            "And the original values for weights and bias are:\n",
            "weights: 0.7, bias: 0.3\n"
          ]
        }
      ]
    },
    {
      "cell_type": "code",
      "source": [],
      "metadata": {
        "id": "ou6MudRKyowk"
      },
      "execution_count": null,
      "outputs": []
    }
  ]
}