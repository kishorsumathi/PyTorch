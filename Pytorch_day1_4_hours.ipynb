{
  "cells": [
    {
      "cell_type": "code",
      "execution_count": null,
      "metadata": {
        "colab": {
          "base_uri": "https://localhost:8080/"
        },
        "id": "wH5rliYvJokT",
        "outputId": "2e3fa751-88ab-4040-a84e-882dc768fad7"
      },
      "outputs": [
        {
          "output_type": "stream",
          "name": "stdout",
          "text": [
            "pytorch Day-1 Fundamentals\n"
          ]
        }
      ],
      "source": [
        "print(\"pytorch Day-1 Fundamentals\")"
      ]
    },
    {
      "cell_type": "code",
      "execution_count": null,
      "metadata": {
        "colab": {
          "base_uri": "https://localhost:8080/"
        },
        "id": "vK9ei4OsJwhT",
        "outputId": "33b25637-db6c-479a-de0d-ef0e025da6fc"
      },
      "outputs": [
        {
          "output_type": "stream",
          "name": "stdout",
          "text": [
            "Sat Sep 17 11:03:50 2022       \n",
            "+-----------------------------------------------------------------------------+\n",
            "| NVIDIA-SMI 460.32.03    Driver Version: 460.32.03    CUDA Version: 11.2     |\n",
            "|-------------------------------+----------------------+----------------------+\n",
            "| GPU  Name        Persistence-M| Bus-Id        Disp.A | Volatile Uncorr. ECC |\n",
            "| Fan  Temp  Perf  Pwr:Usage/Cap|         Memory-Usage | GPU-Util  Compute M. |\n",
            "|                               |                      |               MIG M. |\n",
            "|===============================+======================+======================|\n",
            "|   0  Tesla P100-PCIE...  Off  | 00000000:00:04.0 Off |                    0 |\n",
            "| N/A   37C    P0    26W / 250W |      0MiB / 16280MiB |      0%      Default |\n",
            "|                               |                      |                  N/A |\n",
            "+-------------------------------+----------------------+----------------------+\n",
            "                                                                               \n",
            "+-----------------------------------------------------------------------------+\n",
            "| Processes:                                                                  |\n",
            "|  GPU   GI   CI        PID   Type   Process name                  GPU Memory |\n",
            "|        ID   ID                                                   Usage      |\n",
            "|=============================================================================|\n",
            "|  No running processes found                                                 |\n",
            "+-----------------------------------------------------------------------------+\n"
          ]
        }
      ],
      "source": [
        "!nvidia-smi"
      ]
    },
    {
      "cell_type": "code",
      "execution_count": null,
      "metadata": {
        "colab": {
          "base_uri": "https://localhost:8080/"
        },
        "id": "2ctwDJDDJ_Wh",
        "outputId": "703ffaab-71da-49c1-ad50-8f16e7dae319"
      },
      "outputs": [
        {
          "output_type": "stream",
          "name": "stdout",
          "text": [
            "1.12.1+cu113\n"
          ]
        }
      ],
      "source": [
        "import torch\n",
        "print(torch.__version__)"
      ]
    },
    {
      "cell_type": "markdown",
      "metadata": {
        "id": "lcOfiUx3QW9K"
      },
      "source": [
        "##Tensors"
      ]
    },
    {
      "cell_type": "code",
      "execution_count": null,
      "metadata": {
        "colab": {
          "base_uri": "https://localhost:8080/"
        },
        "id": "ZmEGTny_Pi7m",
        "outputId": "f3a53fe2-e420-4527-f8f0-5c227b2ea4d4"
      },
      "outputs": [
        {
          "output_type": "execute_result",
          "data": {
            "text/plain": [
              "tensor(7)"
            ]
          },
          "metadata": {},
          "execution_count": 4
        }
      ],
      "source": [
        "scalar=torch.tensor(7)\n",
        "scalar"
      ]
    },
    {
      "cell_type": "code",
      "execution_count": null,
      "metadata": {
        "colab": {
          "base_uri": "https://localhost:8080/"
        },
        "id": "YQfmg7ssQ64w",
        "outputId": "a122944a-500a-4eb8-923e-ce80b8c576e0"
      },
      "outputs": [
        {
          "output_type": "execute_result",
          "data": {
            "text/plain": [
              "0"
            ]
          },
          "metadata": {},
          "execution_count": 5
        }
      ],
      "source": [
        "scalar.ndim"
      ]
    },
    {
      "cell_type": "code",
      "execution_count": null,
      "metadata": {
        "colab": {
          "base_uri": "https://localhost:8080/"
        },
        "id": "FmwFbDPlRRLP",
        "outputId": "72add813-2126-4d03-bfb1-7eb9cf134040"
      },
      "outputs": [
        {
          "output_type": "execute_result",
          "data": {
            "text/plain": [
              "7"
            ]
          },
          "metadata": {},
          "execution_count": 6
        }
      ],
      "source": [
        "#to get tensors as python int\n",
        "scalar.item()"
      ]
    },
    {
      "cell_type": "code",
      "execution_count": null,
      "metadata": {
        "colab": {
          "base_uri": "https://localhost:8080/"
        },
        "id": "H_LZIf7eRcHk",
        "outputId": "44cac987-d9e7-4134-d255-e07528858fc9"
      },
      "outputs": [
        {
          "output_type": "stream",
          "name": "stdout",
          "text": [
            "tensor([1, 2])\n"
          ]
        }
      ],
      "source": [
        "#creating vectors\n",
        "vectors=torch.tensor([1,2])\n",
        "print(vectors)"
      ]
    },
    {
      "cell_type": "code",
      "execution_count": null,
      "metadata": {
        "colab": {
          "base_uri": "https://localhost:8080/"
        },
        "id": "wctQhVwDRpjQ",
        "outputId": "266de3ea-2683-4f1d-e31d-ebc28b70c43e"
      },
      "outputs": [
        {
          "output_type": "execute_result",
          "data": {
            "text/plain": [
              "1"
            ]
          },
          "metadata": {},
          "execution_count": 8
        }
      ],
      "source": [
        "vectors.ndim"
      ]
    },
    {
      "cell_type": "code",
      "execution_count": null,
      "metadata": {
        "colab": {
          "base_uri": "https://localhost:8080/"
        },
        "id": "qM9FmJhKRs3v",
        "outputId": "5e8298d0-be0e-4210-b7b2-0d75265aaa6d"
      },
      "outputs": [
        {
          "output_type": "execute_result",
          "data": {
            "text/plain": [
              "tensor([[1, 2],\n",
              "        [3, 4]])"
            ]
          },
          "metadata": {},
          "execution_count": 9
        }
      ],
      "source": [
        "\n",
        "## matrix\n",
        "matrix=torch.tensor([[1,2],\n",
        "                      [3,4]])\n",
        "matrix"
      ]
    },
    {
      "cell_type": "code",
      "execution_count": null,
      "metadata": {
        "colab": {
          "base_uri": "https://localhost:8080/"
        },
        "id": "lGBC2CPPSHCp",
        "outputId": "7d83dc08-a40f-47ee-fd78-4beaf0a78d11"
      },
      "outputs": [
        {
          "output_type": "execute_result",
          "data": {
            "text/plain": [
              "2"
            ]
          },
          "metadata": {},
          "execution_count": 10
        }
      ],
      "source": [
        "matrix.ndim"
      ]
    },
    {
      "cell_type": "code",
      "execution_count": null,
      "metadata": {
        "colab": {
          "base_uri": "https://localhost:8080/"
        },
        "id": "wEDDIviISKau",
        "outputId": "052dfa94-63b7-437d-b570-fba0d2516e74"
      },
      "outputs": [
        {
          "output_type": "execute_result",
          "data": {
            "text/plain": [
              "torch.Size([2, 2])"
            ]
          },
          "metadata": {},
          "execution_count": 11
        }
      ],
      "source": [
        "matrix.shape ## shape of matrix"
      ]
    },
    {
      "cell_type": "code",
      "execution_count": null,
      "metadata": {
        "colab": {
          "base_uri": "https://localhost:8080/"
        },
        "id": "IoI-cD0tSNZW",
        "outputId": "e97e5a9f-4908-41c5-8917-55e820c73ac7"
      },
      "outputs": [
        {
          "output_type": "execute_result",
          "data": {
            "text/plain": [
              "tensor([[[ 1,  2,  3,  4],\n",
              "         [ 6,  7,  8,  9],\n",
              "         [10, 11, 12, 13]]])"
            ]
          },
          "metadata": {},
          "execution_count": 12
        }
      ],
      "source": [
        "## Tensor\n",
        "tensor=torch.tensor([[[1,2,3,4],\n",
        "                     [6,7,8,9],\n",
        "                     [10,11,12,13]]])\n",
        "tensor"
      ]
    },
    {
      "cell_type": "code",
      "execution_count": null,
      "metadata": {
        "colab": {
          "base_uri": "https://localhost:8080/"
        },
        "id": "50kirdzVSiaQ",
        "outputId": "6c50df2f-438e-496f-f542-6bca253b5eb0"
      },
      "outputs": [
        {
          "output_type": "execute_result",
          "data": {
            "text/plain": [
              "3"
            ]
          },
          "metadata": {},
          "execution_count": 13
        }
      ],
      "source": [
        "tensor.ndim"
      ]
    },
    {
      "cell_type": "code",
      "execution_count": null,
      "metadata": {
        "colab": {
          "base_uri": "https://localhost:8080/"
        },
        "id": "6NG47pXASo-a",
        "outputId": "ce754bd2-89d0-47af-9c59-3b77aef3cc54"
      },
      "outputs": [
        {
          "output_type": "execute_result",
          "data": {
            "text/plain": [
              "torch.Size([1, 3, 4])"
            ]
          },
          "metadata": {},
          "execution_count": 14
        }
      ],
      "source": [
        "tensor.shape   # one 3 by 4 tensors"
      ]
    },
    {
      "cell_type": "markdown",
      "metadata": {
        "id": "GCtvMRc-Sr0b"
      },
      "source": [
        "## Random Tensors"
      ]
    },
    {
      "cell_type": "code",
      "execution_count": null,
      "metadata": {
        "colab": {
          "base_uri": "https://localhost:8080/"
        },
        "id": "jVOJNfnNT9CL",
        "outputId": "1b72c198-be69-4a03-90d9-e5e7f32dd8ff"
      },
      "outputs": [
        {
          "output_type": "execute_result",
          "data": {
            "text/plain": [
              "tensor([[[-0.4735,  2.1079,  1.3185, -0.4394],\n",
              "         [ 0.0438,  1.1840, -0.4585, -2.1017],\n",
              "         [-0.1239,  2.4177,  0.0888,  0.4547]]])"
            ]
          },
          "metadata": {},
          "execution_count": 15
        }
      ],
      "source": [
        "random_tensor= torch.randn(1,3,4)\n",
        "random_tensor"
      ]
    },
    {
      "cell_type": "code",
      "execution_count": null,
      "metadata": {
        "colab": {
          "base_uri": "https://localhost:8080/"
        },
        "id": "YQqQtVAuVjeF",
        "outputId": "24b70d39-24aa-469f-81b1-bb19e20cb1bd"
      },
      "outputs": [
        {
          "output_type": "execute_result",
          "data": {
            "text/plain": [
              "3"
            ]
          },
          "metadata": {},
          "execution_count": 16
        }
      ],
      "source": [
        "random_tensor.ndim"
      ]
    },
    {
      "cell_type": "code",
      "execution_count": null,
      "metadata": {
        "colab": {
          "base_uri": "https://localhost:8080/"
        },
        "id": "nYp2ILHfVtYE",
        "outputId": "b9c2af2e-38ba-4c67-ad82-b6d963b9af6b"
      },
      "outputs": [
        {
          "output_type": "execute_result",
          "data": {
            "text/plain": [
              "torch.Size([1, 3, 4])"
            ]
          },
          "metadata": {},
          "execution_count": 17
        }
      ],
      "source": [
        "random_tensor.shape"
      ]
    },
    {
      "cell_type": "markdown",
      "source": [
        "## zeros and ones"
      ],
      "metadata": {
        "id": "U08wlXXCWE9u"
      }
    },
    {
      "cell_type": "code",
      "source": [
        "zeros=torch.zeros(size=(3,4))\n",
        "zeros"
      ],
      "metadata": {
        "colab": {
          "base_uri": "https://localhost:8080/"
        },
        "id": "jIgE53QltkvY",
        "outputId": "030c6864-c88c-415e-921d-153f26d711d4"
      },
      "execution_count": null,
      "outputs": [
        {
          "output_type": "execute_result",
          "data": {
            "text/plain": [
              "tensor([[0., 0., 0., 0.],\n",
              "        [0., 0., 0., 0.],\n",
              "        [0., 0., 0., 0.]])"
            ]
          },
          "metadata": {},
          "execution_count": 18
        }
      ]
    },
    {
      "cell_type": "code",
      "source": [
        "## creating ones\n",
        "ones=torch.ones(size=(3,4))\n",
        "ones"
      ],
      "metadata": {
        "colab": {
          "base_uri": "https://localhost:8080/"
        },
        "id": "Fm8pbd-_trvu",
        "outputId": "27639230-abda-482d-bf51-c70e8e15b1e5"
      },
      "execution_count": null,
      "outputs": [
        {
          "output_type": "execute_result",
          "data": {
            "text/plain": [
              "tensor([[1., 1., 1., 1.],\n",
              "        [1., 1., 1., 1.],\n",
              "        [1., 1., 1., 1.]])"
            ]
          },
          "metadata": {},
          "execution_count": 19
        }
      ]
    },
    {
      "cell_type": "code",
      "source": [
        "ones.dtype"
      ],
      "metadata": {
        "colab": {
          "base_uri": "https://localhost:8080/"
        },
        "id": "KkeaRWybt4FL",
        "outputId": "2df76dbb-b2c5-40d0-9b3e-ba496d0e5ae6"
      },
      "execution_count": null,
      "outputs": [
        {
          "output_type": "execute_result",
          "data": {
            "text/plain": [
              "torch.float32"
            ]
          },
          "metadata": {},
          "execution_count": 20
        }
      ]
    },
    {
      "cell_type": "markdown",
      "source": [
        "## crating range of tensors and tensors-like"
      ],
      "metadata": {
        "id": "aQ4b4m8ft8kY"
      }
    },
    {
      "cell_type": "code",
      "source": [
        "rang=torch.arange(start=0,step=2,end=10)\n",
        "print(rang)\n",
        "rang[0]"
      ],
      "metadata": {
        "colab": {
          "base_uri": "https://localhost:8080/"
        },
        "id": "AZ0_F1FIuK4q",
        "outputId": "eed14785-7059-45b3-f10b-bc39ef598fb3"
      },
      "execution_count": null,
      "outputs": [
        {
          "output_type": "stream",
          "name": "stdout",
          "text": [
            "tensor([0, 2, 4, 6, 8])\n"
          ]
        },
        {
          "output_type": "execute_result",
          "data": {
            "text/plain": [
              "tensor(0)"
            ]
          },
          "metadata": {},
          "execution_count": 21
        }
      ]
    },
    {
      "cell_type": "code",
      "source": [
        "## creating tensors like\n",
        "import time\n",
        "start=time.time()\n",
        "ten_like=torch.zeros_like(input=rang,device=\"cuda\")\n",
        "end=time.time()\n",
        "print(\"Time taken :\",end-start)\n",
        "ten_like"
      ],
      "metadata": {
        "colab": {
          "base_uri": "https://localhost:8080/"
        },
        "id": "S6WY56IMuN-4",
        "outputId": "84c61b43-a444-4b19-879c-8cfe1e027852"
      },
      "execution_count": null,
      "outputs": [
        {
          "output_type": "stream",
          "name": "stdout",
          "text": [
            "Time taken : 3.9315993785858154\n"
          ]
        },
        {
          "output_type": "execute_result",
          "data": {
            "text/plain": [
              "tensor([0, 0, 0, 0, 0], device='cuda:0')"
            ]
          },
          "metadata": {},
          "execution_count": 22
        }
      ]
    },
    {
      "cell_type": "markdown",
      "source": [
        "##Tensor datatype"
      ],
      "metadata": {
        "id": "yIwgtewOxc7N"
      }
    },
    {
      "cell_type": "code",
      "source": [
        "import tracemalloc\n",
        "tracemalloc.start()\n",
        "float_16_tensors=torch.tensor([3.4,33,9.0],dtype=torch.float16,device=\"cuda\")\n",
        "float_16_tensors\n",
        "print(\"memory used:\", tracemalloc.get_traced_memory())\n",
        "tracemalloc.stop()"
      ],
      "metadata": {
        "colab": {
          "base_uri": "https://localhost:8080/"
        },
        "id": "GvdFuJIgvMXx",
        "outputId": "090a6520-e753-45e9-a473-196dfe3b4a2c"
      },
      "execution_count": null,
      "outputs": [
        {
          "output_type": "stream",
          "name": "stdout",
          "text": [
            "memory used: (632, 10966)\n"
          ]
        }
      ]
    },
    {
      "cell_type": "code",
      "source": [
        "## float16 to float32 conversion\n",
        "import tracemalloc\n",
        "tracemalloc.start()\n",
        "float_32_tensors=float_16_tensors.type(torch.float32)\n",
        "float_32_tensors\n",
        "print(\"memory used:\", tracemalloc.get_traced_memory())  ## memory usage increases float32\n",
        "tracemalloc.stop()"
      ],
      "metadata": {
        "colab": {
          "base_uri": "https://localhost:8080/"
        },
        "id": "guAgWpxNx1Yz",
        "outputId": "bffd7dd2-a43c-492b-d0cf-ac749d378cc9"
      },
      "execution_count": null,
      "outputs": [
        {
          "output_type": "stream",
          "name": "stdout",
          "text": [
            "memory used: (650, 10984)\n"
          ]
        }
      ]
    },
    {
      "cell_type": "code",
      "source": [
        "float_16_tensors*float_32_tensors"
      ],
      "metadata": {
        "colab": {
          "base_uri": "https://localhost:8080/"
        },
        "id": "yP88taIE8z9k",
        "outputId": "47812131-b126-4829-da76-d82129ea07fa"
      },
      "execution_count": null,
      "outputs": [
        {
          "output_type": "execute_result",
          "data": {
            "text/plain": [
              "tensor([  11.5627, 1089.0000,   81.0000], device='cuda:0')"
            ]
          },
          "metadata": {},
          "execution_count": 25
        }
      ]
    },
    {
      "cell_type": "markdown",
      "source": [
        "#### Error"
      ],
      "metadata": {
        "id": "sLM9Gfw7_HRx"
      }
    },
    {
      "cell_type": "code",
      "source": [
        "int16_tensor=torch.tensor(1000000000000000000000000000,dtype=torch.int8) ## more then int8 range –9,223,372,036,854,775,807 to 9,223,372,036,854,775,807"
      ],
      "metadata": {
        "colab": {
          "base_uri": "https://localhost:8080/",
          "height": 165
        },
        "id": "Kdssi32I-ON_",
        "outputId": "b922f788-510a-48f1-8b00-6ee5a531c163"
      },
      "execution_count": null,
      "outputs": [
        {
          "output_type": "error",
          "ename": "RuntimeError",
          "evalue": "ignored",
          "traceback": [
            "\u001b[0;31m---------------------------------------------------------------------------\u001b[0m",
            "\u001b[0;31mRuntimeError\u001b[0m                              Traceback (most recent call last)",
            "\u001b[0;32m<ipython-input-26-3d182a25b2b2>\u001b[0m in \u001b[0;36m<module>\u001b[0;34m\u001b[0m\n\u001b[0;32m----> 1\u001b[0;31m \u001b[0mint16_tensor\u001b[0m\u001b[0;34m=\u001b[0m\u001b[0mtorch\u001b[0m\u001b[0;34m.\u001b[0m\u001b[0mtensor\u001b[0m\u001b[0;34m(\u001b[0m\u001b[0;36m1000000000000000000000000000\u001b[0m\u001b[0;34m,\u001b[0m\u001b[0mdtype\u001b[0m\u001b[0;34m=\u001b[0m\u001b[0mtorch\u001b[0m\u001b[0;34m.\u001b[0m\u001b[0mint8\u001b[0m\u001b[0;34m)\u001b[0m \u001b[0;31m## more then int8 range –9,223,372,036,854,775,807 to 9,223,372,036,854,775,807\u001b[0m\u001b[0;34m\u001b[0m\u001b[0;34m\u001b[0m\u001b[0m\n\u001b[0m",
            "\u001b[0;31mRuntimeError\u001b[0m: Overflow when unpacking long"
          ]
        }
      ]
    },
    {
      "cell_type": "markdown",
      "source": [
        "## size and shape"
      ],
      "metadata": {
        "id": "V_psPQBnACkp"
      }
    },
    {
      "cell_type": "code",
      "source": [
        "tensor=torch.rand(size=(20,20),dtype=torch.float16,device=\"cuda\",requires_grad=False)\n",
        "print(f\"shape of tensor: {tensor.shape}\")\n",
        "print(f\"size of tensor: {tensor.size()}\")   #shape and size functions rdoes the same job.only difference is size must be given as function\n",
        "print(f\"dtype of tensor: {tensor.dtype}\")\n",
        "print(f\"dimension of tensor: {tensor.ndim}\")\n",
        "print(f\"tensor device: {tensor.device}\")"
      ],
      "metadata": {
        "colab": {
          "base_uri": "https://localhost:8080/"
        },
        "id": "juMiO_zn-s3m",
        "outputId": "9c3d7b7d-2535-47b9-b59d-72ff555cb5dc"
      },
      "execution_count": null,
      "outputs": [
        {
          "output_type": "stream",
          "name": "stdout",
          "text": [
            "shape of tensor: torch.Size([20, 20])\n",
            "size of tensor: torch.Size([20, 20])\n",
            "dtype of tensor: torch.float16\n",
            "dimension of tensor: 2\n",
            "tensor device: cuda:0\n"
          ]
        }
      ]
    },
    {
      "cell_type": "markdown",
      "source": [
        "## Manipulating Tensors (tensor operation)\n",
        "\n",
        "\n",
        "*   Addition\n",
        "*   subtraction\n",
        "*   multiplication\n",
        "*   Division\n",
        "\n",
        "*   Matrix multiplication\n",
        "\n",
        "\n",
        "\n",
        "\n",
        "\n",
        "\n"
      ],
      "metadata": {
        "id": "4i8iIqyCBJ86"
      }
    },
    {
      "cell_type": "code",
      "source": [
        "\n",
        "# create a tensor\n",
        "add_tensor=torch.tensor(10)\n",
        "add_tensor+10"
      ],
      "metadata": {
        "colab": {
          "base_uri": "https://localhost:8080/"
        },
        "id": "BpxUoz1wCbpq",
        "outputId": "0de36743-be31-45a9-9fe3-dae7a1e2b3c5"
      },
      "execution_count": null,
      "outputs": [
        {
          "output_type": "execute_result",
          "data": {
            "text/plain": [
              "tensor(20)"
            ]
          },
          "metadata": {},
          "execution_count": 28
        }
      ]
    },
    {
      "cell_type": "code",
      "source": [
        "sub_tensor=torch.tensor(1)\n",
        "sub_tensor-20"
      ],
      "metadata": {
        "colab": {
          "base_uri": "https://localhost:8080/"
        },
        "id": "UMcM_jTuDFEX",
        "outputId": "4dacbdf9-872a-4fdb-fd54-874ce72f3abf"
      },
      "execution_count": null,
      "outputs": [
        {
          "output_type": "execute_result",
          "data": {
            "text/plain": [
              "tensor(-19)"
            ]
          },
          "metadata": {},
          "execution_count": 29
        }
      ]
    },
    {
      "cell_type": "code",
      "source": [
        "mul_tensor=torch.tensor(50)\n",
        "mul_tensor*5"
      ],
      "metadata": {
        "colab": {
          "base_uri": "https://localhost:8080/"
        },
        "id": "ol9g8pFbDPWd",
        "outputId": "d1fab605-5c7b-43bb-d9b7-14da1a9f752f"
      },
      "execution_count": null,
      "outputs": [
        {
          "output_type": "execute_result",
          "data": {
            "text/plain": [
              "tensor(250)"
            ]
          },
          "metadata": {},
          "execution_count": 30
        }
      ]
    },
    {
      "cell_type": "code",
      "source": [
        "div_tensor=torch.tensor(5)\n",
        "div_tensor/6"
      ],
      "metadata": {
        "colab": {
          "base_uri": "https://localhost:8080/"
        },
        "id": "UGhmieekDWpT",
        "outputId": "583fe829-8639-48b9-eb36-19f7824a2b2c"
      },
      "execution_count": null,
      "outputs": [
        {
          "output_type": "execute_result",
          "data": {
            "text/plain": [
              "tensor(0.8333)"
            ]
          },
          "metadata": {},
          "execution_count": 31
        }
      ]
    },
    {
      "cell_type": "code",
      "source": [
        "%%time\n",
        "tensor1=torch.tensor([[1,2,3],[3,4,5]])\n",
        "tensor2=torch.tensor([[1,2],[4,5],[6,7]])\n",
        "mat_mul=torch.matmul(tensor1,tensor2)\n",
        "mat_mul"
      ],
      "metadata": {
        "colab": {
          "base_uri": "https://localhost:8080/"
        },
        "id": "l1mrlSMvDcuA",
        "outputId": "3b73d8c3-5129-4ed6-d987-5762afd58591"
      },
      "execution_count": null,
      "outputs": [
        {
          "output_type": "stream",
          "name": "stdout",
          "text": [
            "CPU times: user 1.28 ms, sys: 0 ns, total: 1.28 ms\n",
            "Wall time: 7.63 ms\n"
          ]
        },
        {
          "output_type": "execute_result",
          "data": {
            "text/plain": [
              "tensor([[27, 33],\n",
              "        [49, 61]])"
            ]
          },
          "metadata": {},
          "execution_count": 32
        }
      ]
    },
    {
      "cell_type": "code",
      "source": [
        "%%time\n",
        "tensor1 @ tensor2  ## does the job same as torch.matmul()"
      ],
      "metadata": {
        "id": "kN195fcDEDGX",
        "colab": {
          "base_uri": "https://localhost:8080/"
        },
        "outputId": "cb05fc33-c001-47b5-87ca-37689555ec1c"
      },
      "execution_count": null,
      "outputs": [
        {
          "output_type": "stream",
          "name": "stdout",
          "text": [
            "CPU times: user 642 µs, sys: 0 ns, total: 642 µs\n",
            "Wall time: 490 µs\n"
          ]
        },
        {
          "output_type": "execute_result",
          "data": {
            "text/plain": [
              "tensor([[27, 33],\n",
              "        [49, 61]])"
            ]
          },
          "metadata": {},
          "execution_count": 33
        }
      ]
    },
    {
      "cell_type": "code",
      "source": [
        "torch.rand(size=(4,2)) @ torch.rand(size=(2,3))  ## The resulting matrix has the sahpe of the outer dimension (4,3)"
      ],
      "metadata": {
        "colab": {
          "base_uri": "https://localhost:8080/"
        },
        "id": "rd5TUJ1jzrLe",
        "outputId": "b8359d67-3718-4d3f-90b2-8a5ed3cb9465"
      },
      "execution_count": null,
      "outputs": [
        {
          "output_type": "execute_result",
          "data": {
            "text/plain": [
              "tensor([[0.6489, 0.7026, 0.5582],\n",
              "        [0.8041, 0.9491, 0.7652],\n",
              "        [0.4392, 0.7931, 0.6750],\n",
              "        [0.5012, 0.6705, 0.5508]])"
            ]
          },
          "metadata": {},
          "execution_count": 34
        }
      ]
    },
    {
      "cell_type": "markdown",
      "source": [
        "## shape errors"
      ],
      "metadata": {
        "id": "R8yP3TbF26EG"
      }
    },
    {
      "cell_type": "code",
      "source": [
        "## shapes for matrix multiplication\n",
        "tensor_a= torch.tensor([[1,2],\n",
        "                        [3,4],\n",
        "                        [5,6]])\n",
        "tensor_b= torch.tensor([[7,8],\n",
        "                        [9,10],\n",
        "                        [11,12]])\n",
        "torch.mm(tensor_a,tensor_b) ## same as torch.matmul"
      ],
      "metadata": {
        "colab": {
          "base_uri": "https://localhost:8080/",
          "height": 200
        },
        "id": "sfAZTOu_zDgH",
        "outputId": "f33f21d7-b417-4c7f-dd27-01f211f5e60b"
      },
      "execution_count": null,
      "outputs": [
        {
          "output_type": "error",
          "ename": "RuntimeError",
          "evalue": "ignored",
          "traceback": [
            "\u001b[0;31m---------------------------------------------------------------------------\u001b[0m",
            "\u001b[0;31mRuntimeError\u001b[0m                              Traceback (most recent call last)",
            "\u001b[0;32m<ipython-input-35-202b1830f1d0>\u001b[0m in \u001b[0;36m<module>\u001b[0;34m\u001b[0m\n\u001b[1;32m      6\u001b[0m                         \u001b[0;34m[\u001b[0m\u001b[0;36m9\u001b[0m\u001b[0;34m,\u001b[0m\u001b[0;36m10\u001b[0m\u001b[0;34m]\u001b[0m\u001b[0;34m,\u001b[0m\u001b[0;34m\u001b[0m\u001b[0;34m\u001b[0m\u001b[0m\n\u001b[1;32m      7\u001b[0m                         [11,12]])\n\u001b[0;32m----> 8\u001b[0;31m \u001b[0mtorch\u001b[0m\u001b[0;34m.\u001b[0m\u001b[0mmm\u001b[0m\u001b[0;34m(\u001b[0m\u001b[0mtensor_a\u001b[0m\u001b[0;34m,\u001b[0m\u001b[0mtensor_b\u001b[0m\u001b[0;34m)\u001b[0m \u001b[0;31m## same as torch.matmul\u001b[0m\u001b[0;34m\u001b[0m\u001b[0;34m\u001b[0m\u001b[0m\n\u001b[0m",
            "\u001b[0;31mRuntimeError\u001b[0m: mat1 and mat2 shapes cannot be multiplied (3x2 and 3x2)"
          ]
        }
      ]
    },
    {
      "cell_type": "markdown",
      "source": [
        "\n",
        "We can make matrix multiplication work between tensor_A and tensor_B by making their inner dimensions match.\n",
        "\n",
        "One of the ways to do this is with a transpose (switch the dimensions of a given tensor).\n",
        "\n",
        "You can perform transposes in PyTorch using either:\n",
        "\n",
        "1. ``torch.transpose(input, dim0, dim1)``- where input is the desired tensor to transpose and dim0 and dim1 are the dimensions to be swapped.\n",
        "\n",
        "2. ``tensor.T`` - where tensor is the desired tensor to transpose."
      ],
      "metadata": {
        "id": "M6wgCQPj4GHa"
      }
    },
    {
      "cell_type": "code",
      "source": [
        "tensor_a.shape,tensor_b.T.shape"
      ],
      "metadata": {
        "colab": {
          "base_uri": "https://localhost:8080/"
        },
        "id": "jrzH5nbj5DHg",
        "outputId": "4c6e4c89-61c5-4b2c-814f-522d7d73b55b"
      },
      "execution_count": null,
      "outputs": [
        {
          "output_type": "execute_result",
          "data": {
            "text/plain": [
              "(torch.Size([3, 2]), torch.Size([2, 3]))"
            ]
          },
          "metadata": {},
          "execution_count": 36
        }
      ]
    },
    {
      "cell_type": "code",
      "source": [
        "tensor_a @ tensor_b.T"
      ],
      "metadata": {
        "colab": {
          "base_uri": "https://localhost:8080/"
        },
        "id": "xEUGedqx5uyI",
        "outputId": "12a17b70-4996-4d7b-ae26-300ae7e788a1"
      },
      "execution_count": null,
      "outputs": [
        {
          "output_type": "execute_result",
          "data": {
            "text/plain": [
              "tensor([[ 23,  29,  35],\n",
              "        [ 53,  67,  81],\n",
              "        [ 83, 105, 127]])"
            ]
          },
          "metadata": {},
          "execution_count": 37
        }
      ]
    },
    {
      "cell_type": "code",
      "source": [
        "# The operation works when tensor_B is transposed\n",
        "print(f\"Original shapes: tensor_A = {tensor_a.shape}, tensor_B = {tensor_b.shape}\\n\")\n",
        "print(f\"New shapes: tensor_A = {tensor_a.shape} (same as above), tensor_B.T = {tensor_b.T.shape}\\n\")\n",
        "print(f\"Multiplying: {tensor_a.shape} * {tensor_b.T.shape} <- inner dimensions match\\n\")\n",
        "print(\"Output:\\n\")\n",
        "output = torch.matmul(tensor_a, tensor_b.T)\n",
        "print(output) \n",
        "print(f\"\\nOutput shape: {output.shape}\")"
      ],
      "metadata": {
        "colab": {
          "base_uri": "https://localhost:8080/"
        },
        "id": "qV9gHOXr5_jV",
        "outputId": "a5cf51d5-aefc-4a8b-a972-7a09c1c08d8f"
      },
      "execution_count": null,
      "outputs": [
        {
          "output_type": "stream",
          "name": "stdout",
          "text": [
            "Original shapes: tensor_A = torch.Size([3, 2]), tensor_B = torch.Size([3, 2])\n",
            "\n",
            "New shapes: tensor_A = torch.Size([3, 2]) (same as above), tensor_B.T = torch.Size([2, 3])\n",
            "\n",
            "Multiplying: torch.Size([3, 2]) * torch.Size([2, 3]) <- inner dimensions match\n",
            "\n",
            "Output:\n",
            "\n",
            "tensor([[ 23,  29,  35],\n",
            "        [ 53,  67,  81],\n",
            "        [ 83, 105, 127]])\n",
            "\n",
            "Output shape: torch.Size([3, 3])\n"
          ]
        }
      ]
    },
    {
      "cell_type": "markdown",
      "source": [
        "## Finding the min,max,mean,sum etc..,"
      ],
      "metadata": {
        "id": "gAsyFs7V7Pap"
      }
    },
    {
      "cell_type": "code",
      "source": [
        "x=torch.arange(0,100,10)\n",
        "x"
      ],
      "metadata": {
        "colab": {
          "base_uri": "https://localhost:8080/"
        },
        "id": "R407rFY06lVo",
        "outputId": "7cee5b99-2b41-458d-ac1e-5c038a167f5d"
      },
      "execution_count": null,
      "outputs": [
        {
          "output_type": "execute_result",
          "data": {
            "text/plain": [
              "tensor([ 0, 10, 20, 30, 40, 50, 60, 70, 80, 90])"
            ]
          },
          "metadata": {},
          "execution_count": 39
        }
      ]
    },
    {
      "cell_type": "code",
      "source": [
        "## Find the min and max\n",
        "torch.min(x),torch.max(x)"
      ],
      "metadata": {
        "colab": {
          "base_uri": "https://localhost:8080/"
        },
        "id": "8YG_AmeC7gF8",
        "outputId": "6f811f85-1fa9-4827-ed3e-e2abb784e3f6"
      },
      "execution_count": null,
      "outputs": [
        {
          "output_type": "execute_result",
          "data": {
            "text/plain": [
              "(tensor(0), tensor(90))"
            ]
          },
          "metadata": {},
          "execution_count": 40
        }
      ]
    },
    {
      "cell_type": "code",
      "source": [
        "torch.mean(x)      ## dtype must not be long for torch.mean() function  "
      ],
      "metadata": {
        "colab": {
          "base_uri": "https://localhost:8080/",
          "height": 165
        },
        "id": "ynja6-Np7mou",
        "outputId": "41d01cdd-cb6d-41bd-85c6-4c899926e60e"
      },
      "execution_count": null,
      "outputs": [
        {
          "output_type": "error",
          "ename": "RuntimeError",
          "evalue": "ignored",
          "traceback": [
            "\u001b[0;31m---------------------------------------------------------------------------\u001b[0m",
            "\u001b[0;31mRuntimeError\u001b[0m                              Traceback (most recent call last)",
            "\u001b[0;32m<ipython-input-41-22be67e4a795>\u001b[0m in \u001b[0;36m<module>\u001b[0;34m\u001b[0m\n\u001b[0;32m----> 1\u001b[0;31m \u001b[0mtorch\u001b[0m\u001b[0;34m.\u001b[0m\u001b[0mmean\u001b[0m\u001b[0;34m(\u001b[0m\u001b[0mx\u001b[0m\u001b[0;34m)\u001b[0m      \u001b[0;31m## dtype must not be long for torch.mean() function\u001b[0m\u001b[0;34m\u001b[0m\u001b[0;34m\u001b[0m\u001b[0m\n\u001b[0m",
            "\u001b[0;31mRuntimeError\u001b[0m: mean(): could not infer output dtype. Input dtype must be either a floating point or complex dtype. Got: Long"
          ]
        }
      ]
    },
    {
      "cell_type": "code",
      "source": [
        "## Find the mean\n",
        "torch.mean(x.type(torch.float32))"
      ],
      "metadata": {
        "colab": {
          "base_uri": "https://localhost:8080/"
        },
        "id": "FMoSpPKN8A8V",
        "outputId": "0a8bd845-3a12-4d95-8f3e-1aa06af2a6d7"
      },
      "execution_count": null,
      "outputs": [
        {
          "output_type": "execute_result",
          "data": {
            "text/plain": [
              "tensor(45.)"
            ]
          },
          "metadata": {},
          "execution_count": 42
        }
      ]
    },
    {
      "cell_type": "code",
      "source": [
        "## find the sum\n",
        "torch.sum(x),x.sum()"
      ],
      "metadata": {
        "colab": {
          "base_uri": "https://localhost:8080/"
        },
        "id": "hk1p7Q148TWT",
        "outputId": "80eb1416-c9f3-4f49-98bd-54b4e4c0f1bd"
      },
      "execution_count": null,
      "outputs": [
        {
          "output_type": "execute_result",
          "data": {
            "text/plain": [
              "(tensor(450), tensor(450))"
            ]
          },
          "metadata": {},
          "execution_count": 43
        }
      ]
    },
    {
      "cell_type": "code",
      "source": [
        "## finding max and min value index\n",
        "import numpy as np\n",
        "print(x[torch.argmax(x)].tolist(),torch.argmax(x),x,\"--> method1\")\n",
        "print(np.argmax(x),\"-->method2\")"
      ],
      "metadata": {
        "colab": {
          "base_uri": "https://localhost:8080/"
        },
        "id": "5nGWRfcH8ocQ",
        "outputId": "bce90fd5-0ffa-4e54-b9f9-73e7da6c4b2b"
      },
      "execution_count": null,
      "outputs": [
        {
          "output_type": "stream",
          "name": "stdout",
          "text": [
            "90 tensor(9) tensor([ 0, 10, 20, 30, 40, 50, 60, 70, 80, 90]) --> method1\n",
            "tensor(9) -->method2\n"
          ]
        }
      ]
    },
    {
      "cell_type": "code",
      "source": [
        "print(x[torch.argmin(x)].tolist(),torch.argmin(x),x,\"--> method1\")\n",
        "print(np.argmin(x),\"-->method2\")"
      ],
      "metadata": {
        "colab": {
          "base_uri": "https://localhost:8080/"
        },
        "id": "v4-mZhaV88Ju",
        "outputId": "3d134c41-7de1-4aa1-e6b0-92cbd8919944"
      },
      "execution_count": null,
      "outputs": [
        {
          "output_type": "stream",
          "name": "stdout",
          "text": [
            "0 tensor(0) tensor([ 0, 10, 20, 30, 40, 50, 60, 70, 80, 90]) --> method1\n",
            "tensor(0) -->method2\n"
          ]
        }
      ]
    },
    {
      "cell_type": "markdown",
      "source": [
        "## Reshaping, stacking, squeezing and unsqueezing"
      ],
      "metadata": {
        "id": "i-epyJ5ryW8u"
      }
    },
    {
      "cell_type": "code",
      "source": [
        "import torch\n",
        "x=torch.arange(1,10)\n",
        "x,x.shape"
      ],
      "metadata": {
        "id": "jP-ZOFmU98Wx",
        "colab": {
          "base_uri": "https://localhost:8080/"
        },
        "outputId": "3f56455d-1323-4c4f-b1a9-7220ee097422"
      },
      "execution_count": null,
      "outputs": [
        {
          "output_type": "execute_result",
          "data": {
            "text/plain": [
              "(tensor([1, 2, 3, 4, 5, 6, 7, 8, 9]), torch.Size([9]))"
            ]
          },
          "metadata": {},
          "execution_count": 1
        }
      ]
    },
    {
      "cell_type": "code",
      "source": [
        "## add an extra dimension\n",
        "x_reshaped=x.reshape(1,1,9)\n",
        "x_reshaped.shape"
      ],
      "metadata": {
        "colab": {
          "base_uri": "https://localhost:8080/"
        },
        "id": "kYsOA7qayibG",
        "outputId": "f1fb7681-6b0e-48a2-a8ce-30f7e91432e2"
      },
      "execution_count": null,
      "outputs": [
        {
          "output_type": "execute_result",
          "data": {
            "text/plain": [
              "torch.Size([1, 1, 9])"
            ]
          },
          "metadata": {},
          "execution_count": 20
        }
      ]
    },
    {
      "cell_type": "code",
      "source": [
        "## change the view\n",
        "z=x.view(1,9)\n",
        "z,z.shape"
      ],
      "metadata": {
        "colab": {
          "base_uri": "https://localhost:8080/"
        },
        "id": "PK4u2bSjy5yJ",
        "outputId": "72c44a22-07b7-486e-e217-bb844758bbbf"
      },
      "execution_count": null,
      "outputs": [
        {
          "output_type": "execute_result",
          "data": {
            "text/plain": [
              "(tensor([[1, 2, 3, 4, 5, 6, 7, 8, 9]]), torch.Size([1, 9]))"
            ]
          },
          "metadata": {},
          "execution_count": 5
        }
      ]
    },
    {
      "cell_type": "markdown",
      "source": [
        "### view: changing z changes x (because a view of a tensor shares the same memory as the orginal input)"
      ],
      "metadata": {
        "id": "dzkRMIwSz86e"
      }
    },
    {
      "cell_type": "code",
      "source": [
        "x[1]=34\n",
        "print(\"x value:\",x,\"z value changed\",z)"
      ],
      "metadata": {
        "colab": {
          "base_uri": "https://localhost:8080/"
        },
        "id": "UReheMbvz26V",
        "outputId": "305569a5-7a1b-4cff-cc15-2419f8d9d0e9"
      },
      "execution_count": null,
      "outputs": [
        {
          "output_type": "stream",
          "name": "stdout",
          "text": [
            "x value: tensor([ 1, 34,  3,  4,  5,  6,  7,  8,  9]) z value changed tensor([[ 1, 34,  3,  4,  5,  6,  7,  8,  9]])\n"
          ]
        }
      ]
    },
    {
      "cell_type": "code",
      "source": [
        "x_reshaped[0]"
      ],
      "metadata": {
        "colab": {
          "base_uri": "https://localhost:8080/"
        },
        "id": "EonubS5T0QvN",
        "outputId": "b69c54ab-d596-4263-a04f-37a5f3c85508"
      },
      "execution_count": null,
      "outputs": [
        {
          "output_type": "execute_result",
          "data": {
            "text/plain": [
              "tensor([ 1, 34,  3,  4,  5,  6,  7,  8,  9])"
            ]
          },
          "metadata": {},
          "execution_count": 13
        }
      ]
    },
    {
      "cell_type": "code",
      "source": [
        "## stack tensors on top of each other        ## dim=0 -> vstack,dim=1->hstack\n",
        "x_stacked=torch.stack([x,x,x,x],dim=0)\n",
        "x_stacked"
      ],
      "metadata": {
        "colab": {
          "base_uri": "https://localhost:8080/"
        },
        "id": "iUzfRSdW1ZfZ",
        "outputId": "1242404f-a49a-4aab-bba3-20b09e551b0a"
      },
      "execution_count": null,
      "outputs": [
        {
          "output_type": "execute_result",
          "data": {
            "text/plain": [
              "tensor([[ 1, 34,  3,  4,  5,  6,  7,  8,  9],\n",
              "        [ 1, 34,  3,  4,  5,  6,  7,  8,  9],\n",
              "        [ 1, 34,  3,  4,  5,  6,  7,  8,  9],\n",
              "        [ 1, 34,  3,  4,  5,  6,  7,  8,  9]])"
            ]
          },
          "metadata": {},
          "execution_count": 35
        }
      ]
    },
    {
      "cell_type": "code",
      "source": [
        "x_reshaped.shape"
      ],
      "metadata": {
        "colab": {
          "base_uri": "https://localhost:8080/"
        },
        "id": "LBP0gpQd2Q5p",
        "outputId": "4357d6ab-0489-4c8e-e359-92a457f8652c"
      },
      "execution_count": null,
      "outputs": [
        {
          "output_type": "execute_result",
          "data": {
            "text/plain": [
              "torch.Size([1, 1, 9])"
            ]
          },
          "metadata": {},
          "execution_count": 36
        }
      ]
    },
    {
      "cell_type": "code",
      "source": [
        "## torch.squeeze()-> removes all single dimensions from a target tensor\n",
        "torch.squeeze(x_reshaped).shape  ## removes all single dimension"
      ],
      "metadata": {
        "colab": {
          "base_uri": "https://localhost:8080/"
        },
        "id": "DdAv9fyl2qx3",
        "outputId": "ed8e0c11-323f-445e-a42a-e08ca676b7cd"
      },
      "execution_count": null,
      "outputs": [
        {
          "output_type": "execute_result",
          "data": {
            "text/plain": [
              "torch.Size([9])"
            ]
          },
          "metadata": {},
          "execution_count": 41
        }
      ]
    },
    {
      "cell_type": "code",
      "source": [
        "## torch.unsqeeze() -> adds a single dimension to a target tensor at a specific dimension\n",
        "print(x_reshaped)         ## tensors have unlimited dimensions\n",
        "print(x_reshaped.unsqueeze(dim=0).shape)\n",
        "x_reshaped.unsqueeze(dim=0).ndim"
      ],
      "metadata": {
        "colab": {
          "base_uri": "https://localhost:8080/"
        },
        "id": "0En_XBBR2u78",
        "outputId": "ace97fc3-90c6-415c-c140-980effd8abc3"
      },
      "execution_count": null,
      "outputs": [
        {
          "output_type": "stream",
          "name": "stdout",
          "text": [
            "tensor([[[ 1, 34,  3,  4,  5,  6,  7,  8,  9]]])\n",
            "torch.Size([1, 1, 1, 9])\n"
          ]
        },
        {
          "output_type": "execute_result",
          "data": {
            "text/plain": [
              "4"
            ]
          },
          "metadata": {},
          "execution_count": 52
        }
      ]
    },
    {
      "cell_type": "code",
      "source": [
        "## torch.permute- rearrange the dimension of a target tensor in a specified order\n",
        "x_orginal= torch.rand(size=(224,224,3)) #[h,w,c]\n",
        "#permute the orginal tensor to rearrange the axis (or dim) order\n",
        "x_permuted=x_orginal.permute(2,0,1) # shifts axis 0->1,1->2,2->0\n",
        "print(x_orginal.shape)\n",
        "x_permuted.shape"
      ],
      "metadata": {
        "colab": {
          "base_uri": "https://localhost:8080/"
        },
        "id": "Kg8-Vtmf69YC",
        "outputId": "78511930-b18f-4f61-a77d-5cc8982e2fc6"
      },
      "execution_count": null,
      "outputs": [
        {
          "output_type": "stream",
          "name": "stdout",
          "text": [
            "torch.Size([224, 224, 3])\n"
          ]
        },
        {
          "output_type": "execute_result",
          "data": {
            "text/plain": [
              "torch.Size([3, 224, 224])"
            ]
          },
          "metadata": {},
          "execution_count": 70
        }
      ]
    },
    {
      "cell_type": "code",
      "source": [
        "x_orginal[0,0,0]=10\n",
        "x_permuted[0,0,0]"
      ],
      "metadata": {
        "colab": {
          "base_uri": "https://localhost:8080/"
        },
        "id": "U8SuftCD9Knz",
        "outputId": "a50b9ab5-7029-4708-eab2-2c78e8fefd03"
      },
      "execution_count": null,
      "outputs": [
        {
          "output_type": "execute_result",
          "data": {
            "text/plain": [
              "tensor(10.)"
            ]
          },
          "metadata": {},
          "execution_count": 72
        }
      ]
    },
    {
      "cell_type": "markdown",
      "source": [
        "## indexing (selecting data from tensors)"
      ],
      "metadata": {
        "id": "QKtVApu3-s8r"
      }
    },
    {
      "cell_type": "code",
      "source": [
        "x=torch.arange(1,10).reshape(1,3,3)\n",
        "x,x.shape"
      ],
      "metadata": {
        "colab": {
          "base_uri": "https://localhost:8080/"
        },
        "id": "uF5wPKFv-imo",
        "outputId": "b34cc102-fa1f-4868-d215-1a99f8d617c3"
      },
      "execution_count": null,
      "outputs": [
        {
          "output_type": "execute_result",
          "data": {
            "text/plain": [
              "(tensor([[[1, 2, 3],\n",
              "          [4, 5, 6],\n",
              "          [7, 8, 9]]]), torch.Size([1, 3, 3]))"
            ]
          },
          "metadata": {},
          "execution_count": 80
        }
      ]
    },
    {
      "cell_type": "code",
      "source": [
        "x[0][0],x[0,0]  #both are same"
      ],
      "metadata": {
        "colab": {
          "base_uri": "https://localhost:8080/"
        },
        "id": "TV03BJtm-39_",
        "outputId": "36b1872e-1931-434c-d85b-b6c376ca3bec"
      },
      "execution_count": null,
      "outputs": [
        {
          "output_type": "execute_result",
          "data": {
            "text/plain": [
              "(tensor([1, 2, 3]), tensor([1, 2, 3]))"
            ]
          },
          "metadata": {},
          "execution_count": 85
        }
      ]
    },
    {
      "cell_type": "code",
      "source": [
        "## index on moster inner backet\n",
        "x[0,0,0],x[0][0][0]"
      ],
      "metadata": {
        "colab": {
          "base_uri": "https://localhost:8080/"
        },
        "id": "Hec-im9y_EXj",
        "outputId": "e1145eb3-922a-40ac-8739-3e4ba7310d3a"
      },
      "execution_count": null,
      "outputs": [
        {
          "output_type": "execute_result",
          "data": {
            "text/plain": [
              "(tensor(1), tensor(1))"
            ]
          },
          "metadata": {},
          "execution_count": 104
        }
      ]
    },
    {
      "cell_type": "code",
      "source": [
        "x[:,:,0]"
      ],
      "metadata": {
        "colab": {
          "base_uri": "https://localhost:8080/"
        },
        "id": "Uegx9CVH_Y0R",
        "outputId": "e7a6cf65-336e-4cac-cabd-729b0e389963"
      },
      "execution_count": null,
      "outputs": [
        {
          "output_type": "execute_result",
          "data": {
            "text/plain": [
              "tensor([[1, 4, 7]])"
            ]
          },
          "metadata": {},
          "execution_count": 91
        }
      ]
    },
    {
      "cell_type": "code",
      "source": [
        "x[0,2,2]"
      ],
      "metadata": {
        "colab": {
          "base_uri": "https://localhost:8080/"
        },
        "id": "1u0xJMuz_afr",
        "outputId": "a88f9230-8567-4240-d68f-503aab2d5876"
      },
      "execution_count": null,
      "outputs": [
        {
          "output_type": "execute_result",
          "data": {
            "text/plain": [
              "tensor(9)"
            ]
          },
          "metadata": {},
          "execution_count": 94
        }
      ]
    },
    {
      "cell_type": "code",
      "source": [
        "## you can also use \":\" to select \"all\" of a target dimension\n",
        "x[:,0]"
      ],
      "metadata": {
        "colab": {
          "base_uri": "https://localhost:8080/"
        },
        "id": "7GFYSYBb_2m5",
        "outputId": "96ff6dbd-d1ea-477d-da10-387c6b4b94d6"
      },
      "execution_count": null,
      "outputs": [
        {
          "output_type": "execute_result",
          "data": {
            "text/plain": [
              "tensor([[1, 2, 3]])"
            ]
          },
          "metadata": {},
          "execution_count": 95
        }
      ]
    },
    {
      "cell_type": "code",
      "source": [
        "x[:,:,0]"
      ],
      "metadata": {
        "colab": {
          "base_uri": "https://localhost:8080/"
        },
        "id": "6y67PcxUAJyH",
        "outputId": "3d3df5f7-8b41-4eef-e717-20a5a05392be"
      },
      "execution_count": null,
      "outputs": [
        {
          "output_type": "execute_result",
          "data": {
            "text/plain": [
              "tensor([[1, 4, 7]])"
            ]
          },
          "metadata": {},
          "execution_count": 103
        }
      ]
    },
    {
      "cell_type": "markdown",
      "source": [
        "## Pytorch tensors & Numpy"
      ],
      "metadata": {
        "id": "iaHun0f4ASTp"
      }
    },
    {
      "cell_type": "code",
      "source": [
        "## numpy array to tensors\n",
        "import torch\n",
        "import numpy as np\n",
        "\n",
        "array=np.arange(1.,8.)\n",
        "tensor=torch.from_numpy(array) ## warning : when converting from numpy-> pytorch reflects numpy's default datatype of float64 unless specifies otherwise\n",
        "array,tensor"
      ],
      "metadata": {
        "colab": {
          "base_uri": "https://localhost:8080/"
        },
        "id": "qVCL07dmRam7",
        "outputId": "7a347606-3307-4c5a-fa5f-020628355e9e"
      },
      "execution_count": null,
      "outputs": [
        {
          "output_type": "execute_result",
          "data": {
            "text/plain": [
              "(array([1., 2., 3., 4., 5., 6., 7.]),\n",
              " tensor([1., 2., 3., 4., 5., 6., 7.], dtype=torch.float64))"
            ]
          },
          "metadata": {},
          "execution_count": 6
        }
      ]
    },
    {
      "cell_type": "code",
      "source": [
        "tensor.dtype"
      ],
      "metadata": {
        "colab": {
          "base_uri": "https://localhost:8080/"
        },
        "id": "fwpPUKFkSBvC",
        "outputId": "e62ac809-1642-4556-f2b7-5f58ffcfa904"
      },
      "execution_count": null,
      "outputs": [
        {
          "output_type": "execute_result",
          "data": {
            "text/plain": [
              "torch.float64"
            ]
          },
          "metadata": {},
          "execution_count": 7
        }
      ]
    },
    {
      "cell_type": "code",
      "source": [
        "ten=torch.arange(1.,10.)\n",
        "ten.dtype      ## pytorch default datatype float32"
      ],
      "metadata": {
        "colab": {
          "base_uri": "https://localhost:8080/"
        },
        "id": "D6tjE981S8Lw",
        "outputId": "82f6a816-5d9a-4e74-bc05-55a7efd5ae82"
      },
      "execution_count": null,
      "outputs": [
        {
          "output_type": "execute_result",
          "data": {
            "text/plain": [
              "torch.float32"
            ]
          },
          "metadata": {},
          "execution_count": 10
        }
      ]
    },
    {
      "cell_type": "code",
      "source": [
        "array.dtype"
      ],
      "metadata": {
        "colab": {
          "base_uri": "https://localhost:8080/"
        },
        "id": "uHHVGvP-S2rr",
        "outputId": "2df874c8-a7e1-4697-efba-15b1a3dc191c"
      },
      "execution_count": null,
      "outputs": [
        {
          "output_type": "execute_result",
          "data": {
            "text/plain": [
              "dtype('float64')"
            ]
          },
          "metadata": {},
          "execution_count": 8
        }
      ]
    },
    {
      "cell_type": "code",
      "source": [
        "## tensor to numpy\n",
        "tensor=torch.ones(3)\n",
        "numpy_tensor=tensor.numpy()\n",
        "tensor,numpy_tensor        "
      ],
      "metadata": {
        "colab": {
          "base_uri": "https://localhost:8080/"
        },
        "id": "Qx5h8feHS5Xt",
        "outputId": "57e0ec19-2cb9-4888-ed95-29d7d50871f6"
      },
      "execution_count": null,
      "outputs": [
        {
          "output_type": "execute_result",
          "data": {
            "text/plain": [
              "(tensor([1., 1., 1.]), array([1., 1., 1.], dtype=float32))"
            ]
          },
          "metadata": {},
          "execution_count": 19
        }
      ]
    },
    {
      "cell_type": "code",
      "source": [
        "numpy_tensor.dtype  # replecates the tensor datatype not numpy default datatype(float64)"
      ],
      "metadata": {
        "colab": {
          "base_uri": "https://localhost:8080/"
        },
        "id": "JAuY9ldtTgFF",
        "outputId": "4e1fd8e1-d8f8-45bb-f97e-dbe7d52488c6"
      },
      "execution_count": null,
      "outputs": [
        {
          "output_type": "execute_result",
          "data": {
            "text/plain": [
              "dtype('float64')"
            ]
          },
          "metadata": {},
          "execution_count": 18
        }
      ]
    },
    {
      "cell_type": "markdown",
      "source": [
        "## random seed(Reproducibility)"
      ],
      "metadata": {
        "id": "9S9WIkqwVpxU"
      }
    },
    {
      "cell_type": "code",
      "source": [
        "## crate two random tensors\n",
        "random_tensor_a=torch.rand(3,4)\n",
        "random_tensor_b=torch.rand(3,4)\n",
        "print(random_tensor_a)\n",
        "print(random_tensor_b)\n",
        "print(random_tensor_a==random_tensor_b)"
      ],
      "metadata": {
        "colab": {
          "base_uri": "https://localhost:8080/"
        },
        "id": "NtRRUfcPT4d1",
        "outputId": "a741a6a2-2b88-4cd5-9509-dc013cd7dd3b"
      },
      "execution_count": null,
      "outputs": [
        {
          "output_type": "stream",
          "name": "stdout",
          "text": [
            "tensor([[0.5779, 0.9040, 0.5547, 0.3423],\n",
            "        [0.6343, 0.3644, 0.7104, 0.9464],\n",
            "        [0.7890, 0.2814, 0.7886, 0.5895]])\n",
            "tensor([[0.7539, 0.1952, 0.0050, 0.3068],\n",
            "        [0.1165, 0.9103, 0.6440, 0.7071],\n",
            "        [0.6581, 0.4913, 0.8913, 0.1447]])\n",
            "tensor([[False, False, False, False],\n",
            "        [False, False, False, False],\n",
            "        [False, False, False, False]])\n"
          ]
        }
      ]
    },
    {
      "cell_type": "code",
      "source": [
        "## Let's make some random but reproducible tensors\n",
        "RANDOM_SEED=42\n",
        "torch.manual_seed(RANDOM_SEED)\n",
        "random_tensor_a=torch.rand(3,4)\n",
        "random_tensor_a.cuda()\n",
        "torch.manual_seed(RANDOM_SEED)\n",
        "random_tensor_b=torch.rand(3,4)\n",
        "random_tensor_b.cuda()\n",
        "print(random_tensor_a)\n",
        "print(random_tensor_b)\n",
        "print(random_tensor_a==random_tensor_b)"
      ],
      "metadata": {
        "colab": {
          "base_uri": "https://localhost:8080/"
        },
        "id": "cOh0hZLSV9rF",
        "outputId": "7dcfc47a-c047-4854-9187-a6ee8ba69e8c"
      },
      "execution_count": null,
      "outputs": [
        {
          "output_type": "stream",
          "name": "stdout",
          "text": [
            "tensor([[0.8823, 0.9150, 0.3829, 0.9593],\n",
            "        [0.3904, 0.6009, 0.2566, 0.7936],\n",
            "        [0.9408, 0.1332, 0.9346, 0.5936]])\n",
            "tensor([[0.8823, 0.9150, 0.3829, 0.9593],\n",
            "        [0.3904, 0.6009, 0.2566, 0.7936],\n",
            "        [0.9408, 0.1332, 0.9346, 0.5936]])\n",
            "tensor([[True, True, True, True],\n",
            "        [True, True, True, True],\n",
            "        [True, True, True, True]])\n"
          ]
        }
      ]
    },
    {
      "cell_type": "markdown",
      "source": [
        "## Running tensors and PyTorch objects on the GPUs"
      ],
      "metadata": {
        "id": "Zl02FZaVYBqF"
      }
    },
    {
      "cell_type": "code",
      "source": [
        "## getting a GPU\n",
        "import torch\n",
        "torch.cuda.is_available()"
      ],
      "metadata": {
        "colab": {
          "base_uri": "https://localhost:8080/"
        },
        "id": "TnpwIiMmZMI3",
        "outputId": "cc6ef61f-c48f-4d31-d499-9575b319402b"
      },
      "execution_count": 1,
      "outputs": [
        {
          "output_type": "execute_result",
          "data": {
            "text/plain": [
              "True"
            ]
          },
          "metadata": {},
          "execution_count": 1
        }
      ]
    },
    {
      "cell_type": "code",
      "source": [
        "# setup device agnostic code\n",
        "device= \"cuda\" if torch.cuda.is_available() else \"cpu\"\n",
        "device"
      ],
      "metadata": {
        "colab": {
          "base_uri": "https://localhost:8080/",
          "height": 36
        },
        "id": "kjE_p53kcZU2",
        "outputId": "f262017b-c564-4cbd-a353-4aae42891579"
      },
      "execution_count": 2,
      "outputs": [
        {
          "output_type": "execute_result",
          "data": {
            "text/plain": [
              "'cuda'"
            ],
            "application/vnd.google.colaboratory.intrinsic+json": {
              "type": "string"
            }
          },
          "metadata": {},
          "execution_count": 2
        }
      ]
    },
    {
      "cell_type": "code",
      "source": [
        "## count number of device\n",
        "torch.cuda.device_count()"
      ],
      "metadata": {
        "colab": {
          "base_uri": "https://localhost:8080/"
        },
        "id": "SB6gXITXclel",
        "outputId": "7c8e323f-9114-4cc9-b8a6-f1c2e83c419e"
      },
      "execution_count": 3,
      "outputs": [
        {
          "output_type": "execute_result",
          "data": {
            "text/plain": [
              "1"
            ]
          },
          "metadata": {},
          "execution_count": 3
        }
      ]
    },
    {
      "cell_type": "markdown",
      "source": [
        "## putting tensors (and models) on the GPU"
      ],
      "metadata": {
        "id": "R-Ozl_BpctSI"
      }
    },
    {
      "cell_type": "code",
      "source": [
        "%%time\n",
        "tensor=torch.tensor([1,2,3])\n",
        "print(tensor,tensor.device)"
      ],
      "metadata": {
        "colab": {
          "base_uri": "https://localhost:8080/"
        },
        "id": "lrfOkxxlL6AF",
        "outputId": "70c80895-aadc-46eb-95b2-d0365cec380d"
      },
      "execution_count": 8,
      "outputs": [
        {
          "output_type": "stream",
          "name": "stdout",
          "text": [
            "tensor([1, 2, 3]) cpu\n",
            "CPU times: user 2.28 ms, sys: 63 µs, total: 2.34 ms\n",
            "Wall time: 2.02 ms\n"
          ]
        }
      ]
    },
    {
      "cell_type": "code",
      "source": [
        "%%time\n",
        "## move tensor to GPU\n",
        "tensor_on_gpu=tensor.to(device)\n",
        "tensor_on_gpu\n"
      ],
      "metadata": {
        "colab": {
          "base_uri": "https://localhost:8080/"
        },
        "id": "vYXoBYo8MDFX",
        "outputId": "3ff39258-8bdf-4d7b-903f-0180304b7715"
      },
      "execution_count": 9,
      "outputs": [
        {
          "output_type": "stream",
          "name": "stdout",
          "text": [
            "CPU times: user 0 ns, sys: 905 µs, total: 905 µs\n",
            "Wall time: 1.32 ms\n"
          ]
        },
        {
          "output_type": "execute_result",
          "data": {
            "text/plain": [
              "tensor([1, 2, 3], device='cuda:0')"
            ]
          },
          "metadata": {},
          "execution_count": 9
        }
      ]
    },
    {
      "cell_type": "markdown",
      "source": [
        "## moving tensor back to the gpu"
      ],
      "metadata": {
        "id": "N035p8ptMmbY"
      }
    },
    {
      "cell_type": "code",
      "source": [
        "tensor_on_gpu.numpy()"
      ],
      "metadata": {
        "colab": {
          "base_uri": "https://localhost:8080/",
          "height": 182
        },
        "id": "DwOnKAwhMeV0",
        "outputId": "482c10ec-a4ef-4733-f221-b37f65f296cd"
      },
      "execution_count": 10,
      "outputs": [
        {
          "output_type": "error",
          "ename": "TypeError",
          "evalue": "ignored",
          "traceback": [
            "\u001b[0;31m---------------------------------------------------------------------------\u001b[0m",
            "\u001b[0;31mTypeError\u001b[0m                                 Traceback (most recent call last)",
            "\u001b[0;32m<ipython-input-10-e0c96c7436fd>\u001b[0m in \u001b[0;36m<module>\u001b[0;34m\u001b[0m\n\u001b[0;32m----> 1\u001b[0;31m \u001b[0mtensor_on_gpu\u001b[0m\u001b[0;34m.\u001b[0m\u001b[0mnumpy\u001b[0m\u001b[0;34m(\u001b[0m\u001b[0;34m)\u001b[0m\u001b[0;34m\u001b[0m\u001b[0;34m\u001b[0m\u001b[0m\n\u001b[0m",
            "\u001b[0;31mTypeError\u001b[0m: can't convert cuda:0 device type tensor to numpy. Use Tensor.cpu() to copy the tensor to host memory first."
          ]
        }
      ]
    },
    {
      "cell_type": "code",
      "source": [
        "## to fix the error\n",
        "tensor_on_gpu.cpu().numpy()"
      ],
      "metadata": {
        "colab": {
          "base_uri": "https://localhost:8080/"
        },
        "id": "Bgix3wxbMv-1",
        "outputId": "42e7a2a0-44d1-4290-ac23-9fd70c2d12c9"
      },
      "execution_count": 13,
      "outputs": [
        {
          "output_type": "execute_result",
          "data": {
            "text/plain": [
              "array([1, 2, 3])"
            ]
          },
          "metadata": {},
          "execution_count": 13
        }
      ]
    }
  ],
  "metadata": {
    "accelerator": "GPU",
    "colab": {
      "machine_shape": "hm",
      "provenance": [],
      "collapsed_sections": []
    },
    "kernelspec": {
      "display_name": "Python 3",
      "name": "python3"
    },
    "language_info": {
      "name": "python"
    }
  },
  "nbformat": 4,
  "nbformat_minor": 0
}