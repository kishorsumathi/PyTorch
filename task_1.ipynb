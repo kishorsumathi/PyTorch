{
  "nbformat": 4,
  "nbformat_minor": 0,
  "metadata": {
    "colab": {
      "provenance": [],
      "collapsed_sections": []
    },
    "kernelspec": {
      "name": "python3",
      "display_name": "Python 3"
    },
    "language_info": {
      "name": "python"
    },
    "accelerator": "GPU"
  },
  "cells": [
    {
      "cell_type": "markdown",
      "source": [
        "## 1. Create a random tensor with shape (7, 7)"
      ],
      "metadata": {
        "id": "7_TL6OhoUvzf"
      }
    },
    {
      "cell_type": "code",
      "source": [
        "import torch\n",
        "rand_tensor_int=torch.randint(low=10,high=20,size=(7,7))\n",
        "rand_tensor_float=torch.randn(size=(7,7))\n",
        "print(rand_tensor_int)\n",
        "print(rand_tensor_float)"
      ],
      "metadata": {
        "colab": {
          "base_uri": "https://localhost:8080/"
        },
        "id": "nayordjsUxba",
        "outputId": "cfb64763-be67-4dec-e715-f1c369d3e70c"
      },
      "execution_count": 9,
      "outputs": [
        {
          "output_type": "stream",
          "name": "stdout",
          "text": [
            "tensor([[18, 18, 16, 10, 16, 15, 19],\n",
            "        [14, 12, 10, 12, 13, 11, 14],\n",
            "        [14, 19, 18, 14, 11, 18, 16],\n",
            "        [18, 14, 12, 11, 10, 15, 10],\n",
            "        [13, 13, 10, 18, 15, 11, 10],\n",
            "        [11, 12, 10, 18, 17, 16, 12],\n",
            "        [10, 13, 12, 14, 12, 19, 18]])\n",
            "tensor([[-0.4028, -1.3405, -0.0057, -2.6673,  0.1679, -1.4204, -1.2846],\n",
            "        [ 0.4196,  0.6297,  0.8288, -0.5560,  0.2653, -0.2120,  0.9214],\n",
            "        [-0.2738,  0.8371,  0.9814, -0.4977, -0.2285,  0.2682,  1.0270],\n",
            "        [-0.4414,  0.6227,  0.2868, -1.3299,  0.3991, -1.9632, -0.4154],\n",
            "        [ 0.1458,  0.3734, -0.5356,  1.8017,  1.2818, -0.7733,  0.0060],\n",
            "        [ 0.4961,  0.8714, -0.5031, -2.4717, -0.0743, -0.7044, -1.0760],\n",
            "        [ 1.8377,  0.2173, -0.3217,  0.9411,  1.2608, -0.8483, -0.2921]])\n"
          ]
        }
      ]
    },
    {
      "cell_type": "markdown",
      "source": [
        "##2 .Perform a matrix multiplication on the tensor from 2 with another random tensor with shape (1, 7)."
      ],
      "metadata": {
        "id": "me6BQ37gWIBt"
      }
    },
    {
      "cell_type": "code",
      "source": [
        "rand_tensor=torch.rand(size=(1,7))\n",
        "tensor=torch.rand(size=(1,7))\n",
        "rand_tensor @ tensor.T"
      ],
      "metadata": {
        "colab": {
          "base_uri": "https://localhost:8080/"
        },
        "id": "rW-VfGTMVAf1",
        "outputId": "b9345e28-bd6e-4f79-8a05-fd5a80ad2ce5"
      },
      "execution_count": 20,
      "outputs": [
        {
          "output_type": "execute_result",
          "data": {
            "text/plain": [
              "tensor([[2.3652]])"
            ]
          },
          "metadata": {},
          "execution_count": 20
        }
      ]
    },
    {
      "cell_type": "markdown",
      "source": [
        "## 3.Set the random seed to 0 "
      ],
      "metadata": {
        "id": "pz6OdlihXcrc"
      }
    },
    {
      "cell_type": "code",
      "source": [
        "RANDOM_SEED=0\n",
        "torch.manual_seed(RANDOM_SEED)\n",
        "rand_tensor_1=torch.randn(size=(7,7),device=\"cuda:0\")\n",
        "torch.manual_seed(RANDOM_SEED)\n",
        "rand_tensor_2=torch.randn(size=(7,7),device=\"cuda:0\")\n",
        "print(rand_tensor_1)\n",
        "print(rand_tensor_2)\n",
        "print(rand_tensor_1==rand_tensor_2)\n"
      ],
      "metadata": {
        "colab": {
          "base_uri": "https://localhost:8080/"
        },
        "id": "OdIQ_BiGWcca",
        "outputId": "41f7bc15-e732-4350-a281-e99d6f1fe093"
      },
      "execution_count": 28,
      "outputs": [
        {
          "output_type": "stream",
          "name": "stdout",
          "text": [
            "tensor([[-0.9247, -0.4253, -2.6438,  0.1452, -0.1209, -0.5797, -0.6229],\n",
            "        [-0.3284, -1.0745, -0.3631, -1.6711,  2.2655,  0.3117, -0.1842],\n",
            "        [ 1.2866,  1.1820, -0.1271,  1.2169,  1.4353,  1.0605, -0.4941],\n",
            "        [-1.4244, -0.7244, -1.2973,  0.0697, -0.0074,  1.8969,  0.6878],\n",
            "        [-0.0779, -0.8373,  1.3506, -0.2879, -0.5965, -0.3283, -0.9086],\n",
            "        [-0.8059, -0.7407, -0.0504,  0.5435,  1.5150,  0.0141,  0.4532],\n",
            "        [ 1.6349,  0.7124, -0.1806,  1.0252, -1.4622, -0.7554, -0.1836]],\n",
            "       device='cuda:0')\n",
            "tensor([[-0.9247, -0.4253, -2.6438,  0.1452, -0.1209, -0.5797, -0.6229],\n",
            "        [-0.3284, -1.0745, -0.3631, -1.6711,  2.2655,  0.3117, -0.1842],\n",
            "        [ 1.2866,  1.1820, -0.1271,  1.2169,  1.4353,  1.0605, -0.4941],\n",
            "        [-1.4244, -0.7244, -1.2973,  0.0697, -0.0074,  1.8969,  0.6878],\n",
            "        [-0.0779, -0.8373,  1.3506, -0.2879, -0.5965, -0.3283, -0.9086],\n",
            "        [-0.8059, -0.7407, -0.0504,  0.5435,  1.5150,  0.0141,  0.4532],\n",
            "        [ 1.6349,  0.7124, -0.1806,  1.0252, -1.4622, -0.7554, -0.1836]],\n",
            "       device='cuda:0')\n",
            "tensor([[True, True, True, True, True, True, True],\n",
            "        [True, True, True, True, True, True, True],\n",
            "        [True, True, True, True, True, True, True],\n",
            "        [True, True, True, True, True, True, True],\n",
            "        [True, True, True, True, True, True, True],\n",
            "        [True, True, True, True, True, True, True],\n",
            "        [True, True, True, True, True, True, True]], device='cuda:0')\n"
          ]
        }
      ]
    },
    {
      "cell_type": "markdown",
      "source": [
        "## 4. Speaking of random seeds, we saw how to set it with torch.manual_seed() but is there a GPU equivalent? (hint: you'll need to look into the documentation for torch.cuda for this one). If there is, set the GPU random seed to 1234."
      ],
      "metadata": {
        "id": "8uZfS2UIYd1u"
      }
    },
    {
      "cell_type": "code",
      "source": [
        "device=\"cuda\" if torch.cuda.is_available() else \"cpu\"\n",
        "device"
      ],
      "metadata": {
        "colab": {
          "base_uri": "https://localhost:8080/",
          "height": 36
        },
        "id": "wXhvds8tW1S8",
        "outputId": "11ee3540-b1b5-43c8-ec1e-3fbc85defde5"
      },
      "execution_count": 32,
      "outputs": [
        {
          "output_type": "execute_result",
          "data": {
            "text/plain": [
              "'cuda'"
            ],
            "application/vnd.google.colaboratory.intrinsic+json": {
              "type": "string"
            }
          },
          "metadata": {},
          "execution_count": 32
        }
      ]
    },
    {
      "cell_type": "code",
      "source": [
        "RANDOM_SEED=1234\n",
        "torch.manual_seed(RANDOM_SEED)\n",
        "rand_tensor_1=torch.randn(size=(7,7))\n",
        "rand_tensor_1=rand_tensor_1.to(device)\n",
        "torch.manual_seed(RANDOM_SEED)\n",
        "rand_tensor_2=torch.randn(size=(7,7))\n",
        "rand_tensor_2=rand_tensor_2.to(device)\n",
        "print(rand_tensor_1)\n",
        "print(rand_tensor_2)\n",
        "print(rand_tensor_1==rand_tensor_2)\n",
        "print(rand_tensor_1.device)\n",
        "print(rand_tensor_2.device)"
      ],
      "metadata": {
        "colab": {
          "base_uri": "https://localhost:8080/"
        },
        "id": "_AJePl4UZCDv",
        "outputId": "c09bcb06-ad55-4ade-f3f8-44769d2e6253"
      },
      "execution_count": 34,
      "outputs": [
        {
          "output_type": "stream",
          "name": "stdout",
          "text": [
            "tensor([[-0.1117, -0.4966,  0.1631, -0.8817,  0.0539,  0.6684, -0.0597],\n",
            "        [-0.4675, -0.2153,  0.8840, -0.7584, -0.3689, -0.3424, -1.4020],\n",
            "        [ 0.3206, -1.0219,  0.7988, -0.0923, -0.7049, -1.6024,  0.2891],\n",
            "        [ 0.4899, -0.3853, -0.7120, -0.1706, -1.4594,  0.2207,  0.2463],\n",
            "        [-1.3248,  0.6970, -0.6631,  1.2158, -1.4949, -0.0469, -1.5270],\n",
            "        [-2.0143, -1.5173,  0.3877, -1.1849,  0.6897, -0.2833,  1.8169],\n",
            "        [ 0.6808,  0.7244,  0.0323, -1.6593, -1.8773,  0.7372,  0.3910]],\n",
            "       device='cuda:0')\n",
            "tensor([[-0.1117, -0.4966,  0.1631, -0.8817,  0.0539,  0.6684, -0.0597],\n",
            "        [-0.4675, -0.2153,  0.8840, -0.7584, -0.3689, -0.3424, -1.4020],\n",
            "        [ 0.3206, -1.0219,  0.7988, -0.0923, -0.7049, -1.6024,  0.2891],\n",
            "        [ 0.4899, -0.3853, -0.7120, -0.1706, -1.4594,  0.2207,  0.2463],\n",
            "        [-1.3248,  0.6970, -0.6631,  1.2158, -1.4949, -0.0469, -1.5270],\n",
            "        [-2.0143, -1.5173,  0.3877, -1.1849,  0.6897, -0.2833,  1.8169],\n",
            "        [ 0.6808,  0.7244,  0.0323, -1.6593, -1.8773,  0.7372,  0.3910]],\n",
            "       device='cuda:0')\n",
            "tensor([[True, True, True, True, True, True, True],\n",
            "        [True, True, True, True, True, True, True],\n",
            "        [True, True, True, True, True, True, True],\n",
            "        [True, True, True, True, True, True, True],\n",
            "        [True, True, True, True, True, True, True],\n",
            "        [True, True, True, True, True, True, True],\n",
            "        [True, True, True, True, True, True, True]], device='cuda:0')\n",
            "cuda:0\n",
            "cuda:0\n"
          ]
        }
      ]
    },
    {
      "cell_type": "markdown",
      "source": [
        "## 5. Make a random tensor with shape (1, 1, 1, 10) and then create a new tensor with all the 1 dimensions removed to be left with a tensor of shape (10). Set the seed to 7 when you create it and print out the first tensor and it's shape as well as the second tensor and it's shap"
      ],
      "metadata": {
        "id": "-Y7nAI_MZyQL"
      }
    },
    {
      "cell_type": "code",
      "source": [
        "RANDOM_SEED=7\n",
        "torch.manual_seed(RANDOM_SEED)\n",
        "rand_tensor_1=torch.rand(size=(1,1,1,10))\n",
        "rand_tensor_2=rand_tensor_1.squeeze()\n",
        "print(rand_tensor_1,rand_tensor_1.shape)\n",
        "print(rand_tensor_2,rand_tensor_2.shape)\n"
      ],
      "metadata": {
        "colab": {
          "base_uri": "https://localhost:8080/"
        },
        "id": "8LGlDJ0EZNdP",
        "outputId": "7dc907a1-97ca-4bf0-dce8-9aed8b3d7a68"
      },
      "execution_count": 38,
      "outputs": [
        {
          "output_type": "stream",
          "name": "stdout",
          "text": [
            "tensor([[[[0.5349, 0.1988, 0.6592, 0.6569, 0.2328, 0.4251, 0.2071, 0.6297,\n",
            "           0.3653, 0.8513]]]]) torch.Size([1, 1, 1, 10])\n",
            "tensor([0.5349, 0.1988, 0.6592, 0.6569, 0.2328, 0.4251, 0.2071, 0.6297, 0.3653,\n",
            "        0.8513]) torch.Size([10])\n"
          ]
        }
      ]
    },
    {
      "cell_type": "code",
      "source": [],
      "metadata": {
        "id": "_Ibc2XhzbuTZ"
      },
      "execution_count": null,
      "outputs": []
    }
  ]
}