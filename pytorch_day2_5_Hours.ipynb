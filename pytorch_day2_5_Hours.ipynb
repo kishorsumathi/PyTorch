{
  "nbformat": 4,
  "nbformat_minor": 0,
  "metadata": {
    "colab": {
      "provenance": [],
      "collapsed_sections": []
    },
    "kernelspec": {
      "name": "python3",
      "display_name": "Python 3"
    },
    "language_info": {
      "name": "python"
    },
    "accelerator": "GPU"
  },
  "cells": [
    {
      "cell_type": "markdown",
      "source": [
        "## Pytorch workflow"
      ],
      "metadata": {
        "id": "1VcIMZlfewtN"
      }
    },
    {
      "cell_type": "code",
      "source": [
        "import torch\n",
        "from torch import nn ## nn contains all of pytorch's building blocks for neural networks\n",
        "import matplotlib.pyplot as plt\n",
        "\n",
        "##check pytorch version\n",
        "print(torch.__version__)"
      ],
      "metadata": {
        "colab": {
          "base_uri": "https://localhost:8080/"
        },
        "id": "CQMXvTWOh-v-",
        "outputId": "d2845921-ddda-4b3f-82b0-ca72aef38e82"
      },
      "execution_count": 1,
      "outputs": [
        {
          "output_type": "stream",
          "name": "stdout",
          "text": [
            "1.12.1+cu113\n"
          ]
        }
      ]
    },
    {
      "cell_type": "markdown",
      "source": [
        "## 1. Data (preparing and loading)\n",
        "\n",
        "Machine learning is a game of two parts\n",
        "\n",
        "1.   Get data into a numerical representation.\n",
        "2.   Build a models to learn patterns in that numerical representation\n",
        "\n"
      ],
      "metadata": {
        "id": "P9zR9_N0nhDM"
      }
    },
    {
      "cell_type": "code",
      "source": [
        "## crate *known* parameters\n",
        "weight=0.7\n",
        "bias=0.3\n",
        "\n",
        "#create data\n",
        "start=0\n",
        "end=1\n",
        "step=0.02\n",
        "X=torch.arange(start,end,step).unsqueeze(dim=1)\n",
        "y= weight*X+bias\n",
        "print(X[:10],y[:10])"
      ],
      "metadata": {
        "colab": {
          "base_uri": "https://localhost:8080/"
        },
        "id": "TaKQLRoZne1o",
        "outputId": "14ab6a3c-0954-4568-f3b5-7b2aa6f27b85"
      },
      "execution_count": 2,
      "outputs": [
        {
          "output_type": "stream",
          "name": "stdout",
          "text": [
            "tensor([[0.0000],\n",
            "        [0.0200],\n",
            "        [0.0400],\n",
            "        [0.0600],\n",
            "        [0.0800],\n",
            "        [0.1000],\n",
            "        [0.1200],\n",
            "        [0.1400],\n",
            "        [0.1600],\n",
            "        [0.1800]]) tensor([[0.3000],\n",
            "        [0.3140],\n",
            "        [0.3280],\n",
            "        [0.3420],\n",
            "        [0.3560],\n",
            "        [0.3700],\n",
            "        [0.3840],\n",
            "        [0.3980],\n",
            "        [0.4120],\n",
            "        [0.4260]])\n"
          ]
        }
      ]
    },
    {
      "cell_type": "code",
      "source": [
        "len(X),len(y)"
      ],
      "metadata": {
        "colab": {
          "base_uri": "https://localhost:8080/"
        },
        "id": "4PoOtJc8ts6V",
        "outputId": "a0484b70-bbd6-4c59-d7db-ee86960707f3"
      },
      "execution_count": 3,
      "outputs": [
        {
          "output_type": "execute_result",
          "data": {
            "text/plain": [
              "(50, 50)"
            ]
          },
          "metadata": {},
          "execution_count": 3
        }
      ]
    },
    {
      "cell_type": "markdown",
      "source": [
        "## splitting data into training and testing"
      ],
      "metadata": {
        "id": "HhWWqxGip-zL"
      }
    },
    {
      "cell_type": "code",
      "source": [
        "\n",
        "\n",
        "## Create a train/test split\n",
        "train_split= int(0.8 * len(X))\n",
        "X_train,y_train= X[:train_split], y[:train_split]\n",
        "X_test,y_test=X[train_split:],y[train_split:]\n",
        "\n",
        "len(X_train),len(y_train),len(X_test),len(y_test)\n"
      ],
      "metadata": {
        "colab": {
          "base_uri": "https://localhost:8080/"
        },
        "id": "hyt-FVnmqdbe",
        "outputId": "552ab83c-ecdc-46f3-cbff-3b5e8fb9acd3"
      },
      "execution_count": 4,
      "outputs": [
        {
          "output_type": "execute_result",
          "data": {
            "text/plain": [
              "(40, 40, 10, 10)"
            ]
          },
          "metadata": {},
          "execution_count": 4
        }
      ]
    },
    {
      "cell_type": "markdown",
      "source": [
        "## visualize our data"
      ],
      "metadata": {
        "id": "oAQ4tVkAwWrN"
      }
    },
    {
      "cell_type": "code",
      "source": [
        "\n",
        "\n",
        "def plot_prediction(train_data=X_train,\n",
        "                    train_labels=y_train,\n",
        "                    test_data=X_test,\n",
        "                    test_labels=y_test,\n",
        "                    predictions=None):\n",
        "  \"\"\"\n",
        "  plots training data, test data and compares predictions.\n",
        "  \"\"\"\n",
        "  plt.figure(figsize=(10,7))\n",
        "  plt.scatter(train_data,train_labels,c=\"b\",s=4,label=\"training data\")\n",
        "  plt.scatter(test_data,test_labels,c=\"g\",s=4,label=\"testing data\")\n",
        "  if predictions is not None:\n",
        "       plt.scatter(test_data,predictions,c=\"r\",s=4,label=\"predictions\")\n",
        "  ## show legend\n",
        "  plt.legend(prop={\"size\":14})\n",
        "  plt.show()"
      ],
      "metadata": {
        "id": "GAA_EBXcu_wC"
      },
      "execution_count": 5,
      "outputs": []
    },
    {
      "cell_type": "code",
      "source": [
        "X_train[1],y_train[1]"
      ],
      "metadata": {
        "colab": {
          "base_uri": "https://localhost:8080/"
        },
        "id": "Do8dH8If5Lg2",
        "outputId": "29c3dd5c-302e-4012-9c0c-07292bfd27c0"
      },
      "execution_count": 6,
      "outputs": [
        {
          "output_type": "execute_result",
          "data": {
            "text/plain": [
              "(tensor([0.0200]), tensor([0.3140]))"
            ]
          },
          "metadata": {},
          "execution_count": 6
        }
      ]
    },
    {
      "cell_type": "code",
      "source": [
        "plot_prediction()"
      ],
      "metadata": {
        "colab": {
          "base_uri": "https://localhost:8080/",
          "height": 428
        },
        "id": "zYqZ0H6qvA6E",
        "outputId": "25824dbc-fec1-4f31-a00b-38d293944121"
      },
      "execution_count": 7,
      "outputs": [
        {
          "output_type": "display_data",
          "data": {
            "text/plain": [
              "<Figure size 720x504 with 1 Axes>"
            ],
            "image/png": "[encoded data removed]"
          },
          "metadata": {
            "needs_background": "light"
          }
        }
      ]
    },
    {
      "cell_type": "code",
      "source": [
        "from torch import nn\n",
        "class linearregression(nn.Module):\n",
        "  def __init__(self):\n",
        "    super().__init__()\n",
        "    self.weights=torch.nn.Parameter(torch.randn(1,requires_grad=True,dtype=torch.float32))\n",
        "    self.bias=torch.nn.Parameter(torch.randn(1,requires_grad=True,dtype=torch.float32))\n",
        "  def forward(self,x:torch.Tensor) -> torch.Tensor:  #computatuon performed,foward() tells the larger blocks how to make calculations on inputs (tensors full of data) within nn.Module(s)\n",
        "    return self.weights *x + self.bias\n"
      ],
      "metadata": {
        "id": "4UkcDALrypia"
      },
      "execution_count": 8,
      "outputs": []
    },
    {
      "cell_type": "code",
      "source": [
        "## we have set all the parameters explicitly if you use torch.nn.linear() function the parameters will be handled automatically"
      ],
      "metadata": {
        "id": "DQHsGO6ZVeUh"
      },
      "execution_count": 9,
      "outputs": []
    },
    {
      "cell_type": "code",
      "source": [
        "\n",
        "\n",
        "obj=linearregression()"
      ],
      "metadata": {
        "id": "_goaa1z_U7ku"
      },
      "execution_count": 10,
      "outputs": []
    },
    {
      "cell_type": "code",
      "source": [
        "\n",
        "for i in obj.parameters():\n",
        "  print(i)"
      ],
      "metadata": {
        "colab": {
          "base_uri": "https://localhost:8080/"
        },
        "id": "h_jqk69tU7yE",
        "outputId": "00f90a44-1376-4a58-a0d3-d687df85f206"
      },
      "execution_count": 11,
      "outputs": [
        {
          "output_type": "stream",
          "name": "stdout",
          "text": [
            "Parameter containing:\n",
            "tensor([-1.8971], requires_grad=True)\n",
            "Parameter containing:\n",
            "tensor([1.7344], requires_grad=True)\n"
          ]
        }
      ]
    },
    {
      "cell_type": "markdown",
      "source": [
        "## PyTorch model building essentials\n",
        "\n",
        "* torch.nn- contains all of the buildings for computational graphs( a neural network can be considered a computational graph)\n",
        "* torch.nn.Parameters- What paramets should our model try and learn, often a Pytorch layers from torch.nn will set these for us\n",
        "* torch.nn.Module - The base class for all neural netwok modules, if you subclass it, you should overwrite the forward method.\n",
        "* torch.optim - this where the optimizers in Pytorch live, they will help with gradient decent\n",
        " "
      ],
      "metadata": {
        "id": "5zOVpIyQVGhy"
      }
    },
    {
      "cell_type": "markdown",
      "source": [
        "## Checking the contents of our Pytorch model"
      ],
      "metadata": {
        "id": "9W83XJsMyjGR"
      }
    },
    {
      "cell_type": "code",
      "source": [
        "\n",
        "torch.manual_seed(42)\n"
      ],
      "metadata": {
        "colab": {
          "base_uri": "https://localhost:8080/"
        },
        "id": "w5yZ4dxAwmJG",
        "outputId": "ad318141-8948-488c-c9c5-1e3f63f2a0ac"
      },
      "execution_count": 12,
      "outputs": [
        {
          "output_type": "execute_result",
          "data": {
            "text/plain": [
              "<torch._C.Generator at 0x7faf33f94050>"
            ]
          },
          "metadata": {},
          "execution_count": 12
        }
      ]
    },
    {
      "cell_type": "code",
      "source": [
        "\n",
        "model_0=linearregression()"
      ],
      "metadata": {
        "id": "XJU4euIPyt0D"
      },
      "execution_count": 13,
      "outputs": []
    },
    {
      "cell_type": "code",
      "source": [
        "\n",
        "for i in model_0.parameters():\n",
        "  print(i)"
      ],
      "metadata": {
        "colab": {
          "base_uri": "https://localhost:8080/"
        },
        "id": "dNuN03yXyuNW",
        "outputId": "9a4db49e-800e-4cf0-d1ee-f2fabf7b733e"
      },
      "execution_count": 14,
      "outputs": [
        {
          "output_type": "stream",
          "name": "stdout",
          "text": [
            "Parameter containing:\n",
            "tensor([0.3367], requires_grad=True)\n",
            "Parameter containing:\n",
            "tensor([0.1288], requires_grad=True)\n"
          ]
        }
      ]
    },
    {
      "cell_type": "code",
      "source": [
        "\n",
        "##list named parameters dict()\n",
        "model_0.state_dict()"
      ],
      "metadata": {
        "colab": {
          "base_uri": "https://localhost:8080/"
        },
        "id": "9G3wOogvywF4",
        "outputId": "1734de57-b390-4bae-cda4-a3cd7977fe99"
      },
      "execution_count": 15,
      "outputs": [
        {
          "output_type": "execute_result",
          "data": {
            "text/plain": [
              "OrderedDict([('weights', tensor([0.3367])), ('bias', tensor([0.1288]))])"
            ]
          },
          "metadata": {},
          "execution_count": 15
        }
      ]
    },
    {
      "cell_type": "markdown",
      "source": [
        "## Making prediction using `torch.inference_mode()`"
      ],
      "metadata": {
        "id": "TugZ1fgbzti2"
      }
    },
    {
      "cell_type": "code",
      "source": [
        "\n",
        "with torch.inference_mode():\n",
        "  y_preds= model_0(X_test)\n",
        "y_preds\n",
        "\n",
        "with torch.no_grad():    ## same as inference mode\n",
        "   y_preds= model_0(X_test)\n",
        "y_preds"
      ],
      "metadata": {
        "colab": {
          "base_uri": "https://localhost:8080/"
        },
        "id": "-8J8Yfds1PCX",
        "outputId": "03ef0ca7-3bfe-4810-e2e4-0e90200c3812"
      },
      "execution_count": 16,
      "outputs": [
        {
          "output_type": "execute_result",
          "data": {
            "text/plain": [
              "tensor([[0.3982],\n",
              "        [0.4049],\n",
              "        [0.4116],\n",
              "        [0.4184],\n",
              "        [0.4251],\n",
              "        [0.4318],\n",
              "        [0.4386],\n",
              "        [0.4453],\n",
              "        [0.4520],\n",
              "        [0.4588]])"
            ]
          },
          "metadata": {},
          "execution_count": 16
        }
      ]
    },
    {
      "cell_type": "code",
      "source": [
        "plot_prediction( predictions=y_preds)"
      ],
      "metadata": {
        "colab": {
          "base_uri": "https://localhost:8080/",
          "height": 428
        },
        "id": "HsH4v9tO2Mgv",
        "outputId": "d868f432-4657-4443-862c-b0fa5b99e159"
      },
      "execution_count": 17,
      "outputs": [
        {
          "output_type": "display_data",
          "data": {
            "text/plain": [
              "<Figure size 720x504 with 1 Axes>"
            ],
            "image/png": "[encoded data removed]"
          },
          "metadata": {
            "needs_background": "light"
          }
        }
      ]
    },
    {
      "cell_type": "markdown",
      "source": [
        "## Train model\n",
        "\n"
      ],
      "metadata": {
        "id": "JYi8zb664Xfl"
      }
    },
    {
      "cell_type": "code",
      "source": [
        "#setup a loss function\n",
        "loss_fn= nn.L1Loss()\n",
        "\n",
        "#setup a optimizer\n",
        "optimizer= torch.optim.SGD(params=model_0.parameters(),lr=0.01)"
      ],
      "metadata": {
        "id": "PLAzHwt8xBYi"
      },
      "execution_count": 18,
      "outputs": []
    },
    {
      "cell_type": "code",
      "source": [
        "optimizer"
      ],
      "metadata": {
        "colab": {
          "base_uri": "https://localhost:8080/"
        },
        "id": "HyDPCW-n5SHc",
        "outputId": "19d351f8-004e-401b-b3b2-87e81ca930ad"
      },
      "execution_count": 19,
      "outputs": [
        {
          "output_type": "execute_result",
          "data": {
            "text/plain": [
              "SGD (\n",
              "Parameter Group 0\n",
              "    dampening: 0\n",
              "    foreach: None\n",
              "    lr: 0.01\n",
              "    maximize: False\n",
              "    momentum: 0\n",
              "    nesterov: False\n",
              "    weight_decay: 0\n",
              ")"
            ]
          },
          "metadata": {},
          "execution_count": 19
        }
      ]
    },
    {
      "cell_type": "markdown",
      "source": [
        "## Building a training loop (and a testing loop) in PyTorch\n",
        "\n",
        "\n"
      ],
      "metadata": {
        "id": "KjpywLCF5YG5"
      }
    },
    {
      "cell_type": "markdown",
      "source": [
        "1. Forward pass\n",
        "2. Calculate the loss\n",
        "3. Zero gradients\n",
        "5. Perform backpropagation on the loss\n",
        "4. Update the optimizer (gradient descent)"
      ],
      "metadata": {
        "id": "SHxGuDlu5T3G"
      }
    },
    {
      "cell_type": "code",
      "source": [
        "with torch.inference_mode():\n",
        "  mode=list(model_0.parameters())\n",
        "print(mode)"
      ],
      "metadata": {
        "colab": {
          "base_uri": "https://localhost:8080/"
        },
        "id": "0XIyCfDS7uen",
        "outputId": "0fdc53e3-b7c6-403f-ebc5-91c28fcee744"
      },
      "execution_count": 20,
      "outputs": [
        {
          "output_type": "stream",
          "name": "stdout",
          "text": [
            "[Parameter containing:\n",
            "tensor([0.3367], requires_grad=True), Parameter containing:\n",
            "tensor([0.1288], requires_grad=True)]\n"
          ]
        }
      ]
    },
    {
      "cell_type": "code",
      "source": [
        "## an epoch is one loop through the data..\n",
        "epoch=100\n",
        "\n",
        "## Track differenct values\n",
        "\n",
        "epoch_count=[]\n",
        "loss_values=[]\n",
        "test_loss=[]\n",
        "##loop through the data\n",
        "for epoch in range(epoch):\n",
        "    ## set the model to training mode\n",
        "    model_0.train() ## train mode in PyTorch sets all parameters that require gradients to require gradients\n",
        "\n",
        "    pred=model_0(X_train) ## forward pass and get the prediction result\n",
        "\n",
        "    ## loss function\n",
        "    loss=loss_fn(y_train,pred) ## calculate the loss\n",
        "\n",
        "    ## zero the gradient\n",
        "\n",
        "    optimizer.zero_grad()\n",
        "\n",
        "    ## backpropaget and calculate the gradient\n",
        "    loss.backward()\n",
        "\n",
        "    ###Progress the optimizer\n",
        "    optimizer.step()\n",
        "\n",
        "    ## Testing\n",
        "    model_0.eval() ## turns off different settings in the model not need for evaluation\n",
        "\n",
        "    with torch.inference_mode(): ## turns off gradient tracking & couple of things same as torch.no_grad()\n",
        "         # 1. do the forward pass\n",
        "         test_pred= model_0(X_test)\n",
        "         # 2.calculate the loss\n",
        "         test_loss1= loss_fn(test_pred,y_test)\n",
        "    if epoch %10 ==0:\n",
        "        epoch_count.append(epoch)\n",
        "        loss_values.append(loss.item())\n",
        "        test_loss.append(test_loss1.item())\n",
        "        print(f\"Epoch: {epoch } | Loss : {loss} | Test Loss : {test_loss}\")\n",
        "        print(model_0.state_dict())\n",
        "\n",
        "\n"
      ],
      "metadata": {
        "id": "wyHoftu060f4",
        "colab": {
          "base_uri": "https://localhost:8080/"
        },
        "outputId": "9fe3c32b-28d8-455e-c145-b04f4dda50ed"
      },
      "execution_count": 21,
      "outputs": [
        {
          "output_type": "stream",
          "name": "stdout",
          "text": [
            "Epoch: 0 | Loss : 0.31288138031959534 | Test Loss : [0.48106518387794495]\n",
            "OrderedDict([('weights', tensor([0.3406])), ('bias', tensor([0.1388]))])\n",
            "Epoch: 10 | Loss : 0.1976713240146637 | Test Loss : [0.48106518387794495, 0.3463551998138428]\n",
            "OrderedDict([('weights', tensor([0.3796])), ('bias', tensor([0.2388]))])\n",
            "Epoch: 20 | Loss : 0.08908725529909134 | Test Loss : [0.48106518387794495, 0.3463551998138428, 0.21729660034179688]\n",
            "OrderedDict([('weights', tensor([0.4184])), ('bias', tensor([0.3333]))])\n",
            "Epoch: 30 | Loss : 0.053148526698350906 | Test Loss : [0.48106518387794495, 0.3463551998138428, 0.21729660034179688, 0.14464017748832703]\n",
            "OrderedDict([('weights', tensor([0.4512])), ('bias', tensor([0.3768]))])\n",
            "Epoch: 40 | Loss : 0.04543796554207802 | Test Loss : [0.48106518387794495, 0.3463551998138428, 0.21729660034179688, 0.14464017748832703, 0.11360953003168106]\n",
            "OrderedDict([('weights', tensor([0.4748])), ('bias', tensor([0.3868]))])\n",
            "Epoch: 50 | Loss : 0.04167863354086876 | Test Loss : [0.48106518387794495, 0.3463551998138428, 0.21729660034179688, 0.14464017748832703, 0.11360953003168106, 0.09919948130846024]\n",
            "OrderedDict([('weights', tensor([0.4938])), ('bias', tensor([0.3843]))])\n",
            "Epoch: 60 | Loss : 0.03818932920694351 | Test Loss : [0.48106518387794495, 0.3463551998138428, 0.21729660034179688, 0.14464017748832703, 0.11360953003168106, 0.09919948130846024, 0.08886633068323135]\n",
            "OrderedDict([('weights', tensor([0.5116])), ('bias', tensor([0.3788]))])\n",
            "Epoch: 70 | Loss : 0.03476089984178543 | Test Loss : [0.48106518387794495, 0.3463551998138428, 0.21729660034179688, 0.14464017748832703, 0.11360953003168106, 0.09919948130846024, 0.08886633068323135, 0.0805937647819519]\n",
            "OrderedDict([('weights', tensor([0.5288])), ('bias', tensor([0.3718]))])\n",
            "Epoch: 80 | Loss : 0.03132382780313492 | Test Loss : [0.48106518387794495, 0.3463551998138428, 0.21729660034179688, 0.14464017748832703, 0.11360953003168106, 0.09919948130846024, 0.08886633068323135, 0.0805937647819519, 0.07232122868299484]\n",
            "OrderedDict([('weights', tensor([0.5459])), ('bias', tensor([0.3648]))])\n",
            "Epoch: 90 | Loss : 0.02788739837706089 | Test Loss : [0.48106518387794495, 0.3463551998138428, 0.21729660034179688, 0.14464017748832703, 0.11360953003168106, 0.09919948130846024, 0.08886633068323135, 0.0805937647819519, 0.07232122868299484, 0.06473556160926819]\n",
            "OrderedDict([('weights', tensor([0.5629])), ('bias', tensor([0.3573]))])\n"
          ]
        }
      ]
    },
    {
      "cell_type": "code",
      "source": [
        "plt.plot(epoch_count,loss_values,label=\"Train_loss\")\n",
        "plt.plot(epoch_count,test_loss,label=\"Test_loss\")\n",
        "plt.title(\"Train And Test loss curve\")\n",
        "plt.legend(prop={\"size\":14})\n",
        "plt.ylabel(\"Loss\")\n",
        "plt.xlabel(\"epoch\")"
      ],
      "metadata": {
        "colab": {
          "base_uri": "https://localhost:8080/",
          "height": 312
        },
        "id": "ue__CkpoEYV8",
        "outputId": "389d5f44-9a0c-490f-ed37-ff9d68f5ce5a"
      },
      "execution_count": 22,
      "outputs": [
        {
          "output_type": "execute_result",
          "data": {
            "text/plain": [
              "Text(0.5, 0, 'epoch')"
            ]
          },
          "metadata": {},
          "execution_count": 22
        },
        {
          "output_type": "display_data",
          "data": {
            "text/plain": [
              "<Figure size 432x288 with 1 Axes>"
            ],
            "image/png": "[encoded data removed]"
          },
          "metadata": {
            "needs_background": "light"
          }
        }
      ]
    },
    {
      "cell_type": "code",
      "source": [
        "model_0.state_dict()"
      ],
      "metadata": {
        "colab": {
          "base_uri": "https://localhost:8080/"
        },
        "id": "eObW6bODImOW",
        "outputId": "70a8bba8-9a4f-4593-eb23-7cb013cce32b"
      },
      "execution_count": 23,
      "outputs": [
        {
          "output_type": "execute_result",
          "data": {
            "text/plain": [
              "OrderedDict([('weights', tensor([0.5784])), ('bias', tensor([0.3513]))])"
            ]
          },
          "metadata": {},
          "execution_count": 23
        }
      ]
    },
    {
      "cell_type": "code",
      "source": [
        "with torch.inference_mode():\n",
        "  y_pred=model_0(X_test)"
      ],
      "metadata": {
        "id": "UI203jlTB6hr"
      },
      "execution_count": 24,
      "outputs": []
    },
    {
      "cell_type": "code",
      "source": [
        "plot_prediction( predictions=y_preds)  #orginal random weigth and bias"
      ],
      "metadata": {
        "colab": {
          "base_uri": "https://localhost:8080/",
          "height": 428
        },
        "id": "44B_J5tNDZS_",
        "outputId": "95c58846-15ab-42c9-87ac-e34dc9152fa6"
      },
      "execution_count": 25,
      "outputs": [
        {
          "output_type": "display_data",
          "data": {
            "text/plain": [
              "<Figure size 720x504 with 1 Axes>"
            ],
            "image/png": "[encoded data removed]"
          },
          "metadata": {
            "needs_background": "light"
          }
        }
      ]
    },
    {
      "cell_type": "code",
      "source": [
        "plot_prediction( predictions=y_pred)  #trained model"
      ],
      "metadata": {
        "id": "LTU6pwqWIpH-",
        "colab": {
          "base_uri": "https://localhost:8080/",
          "height": 428
        },
        "outputId": "b352bbcc-d125-4737-9d09-7cd3a110009d"
      },
      "execution_count": 26,
      "outputs": [
        {
          "output_type": "display_data",
          "data": {
            "text/plain": [
              "<Figure size 720x504 with 1 Axes>"
            ],
            "image/png": "[encoded data removed]"
          },
          "metadata": {
            "needs_background": "light"
          }
        }
      ]
    },
    {
      "cell_type": "markdown",
      "source": [
        "## saving and loading a model in pytorch\n",
        "\n",
        "There are three main methods you shoild know about for saving and loading models in PyTorch.\n",
        "\n",
        "1. `torch.save()` -allows you to save PyTorch  onject in Pythons pickle format\n",
        "2. `torch.load()` - allows you to load a saved PyTorch object\n",
        "3. `torch.nn.Module.load_state_dict()` - this allows to load a model's saved state dictionary"
      ],
      "metadata": {
        "id": "DS2mi5cMIZH9"
      }
    },
    {
      "cell_type": "code",
      "source": [
        "from pathlib import Path as path\n",
        "\n",
        "## 1.create models directory\n",
        "\n",
        "MODEL_PATH = path(\"models\")\n",
        "MODEL_PATH.mkdir(parents=True,exist_ok=True)\n",
        "  \n",
        "##2. Create model save parameter\n",
        "MODEL_NAME= \"save_model_0.pth\"\n",
        "MODEL_SAVE_PATH= MODEL_PATH / MODEL_NAME\n",
        "\n",
        "# save the model state dict\n",
        "print(f\"Saving model to: {MODEL_SAVE_PATH}\")\n",
        "torch.save(obj=model_0.state_dict(),f=MODEL_SAVE_PATH)"
      ],
      "metadata": {
        "colab": {
          "base_uri": "https://localhost:8080/"
        },
        "id": "Rzz-1595Id6Z",
        "outputId": "214e6c39-0036-4641-ffab-5f8082e5909f"
      },
      "execution_count": 27,
      "outputs": [
        {
          "output_type": "stream",
          "name": "stdout",
          "text": [
            "Saving model to: models/save_model_0.pth\n"
          ]
        }
      ]
    },
    {
      "cell_type": "markdown",
      "source": [
        "## Loading a PyTorch model\n",
        "\n",
        "Since we saved our model's state_dict() rather the entire model, we'll create a new instance of our model class and load the saved state_dict() into that."
      ],
      "metadata": {
        "id": "v36zvD5XdApl"
      }
    },
    {
      "cell_type": "code",
      "source": [
        "loaded_model_0= linearregression()  #create instance \n",
        "\n",
        "## load the saved state_dict of model_0 (this will update a new instance with updated params)\n",
        "\n",
        "loaded_model_0.load_state_dict(torch.load(MODEL_SAVE_PATH))"
      ],
      "metadata": {
        "colab": {
          "base_uri": "https://localhost:8080/"
        },
        "id": "inJcwJGWeSZV",
        "outputId": "7737d157-215f-4b15-c3c3-2961fa48a15f"
      },
      "execution_count": 28,
      "outputs": [
        {
          "output_type": "execute_result",
          "data": {
            "text/plain": [
              "<All keys matched successfully>"
            ]
          },
          "metadata": {},
          "execution_count": 28
        }
      ]
    },
    {
      "cell_type": "code",
      "source": [
        "loaded_model_0.state_dict()"
      ],
      "metadata": {
        "colab": {
          "base_uri": "https://localhost:8080/"
        },
        "id": "SU7R99pce4W7",
        "outputId": "ec1b15da-7112-4134-8f45-625d6179e515"
      },
      "execution_count": 29,
      "outputs": [
        {
          "output_type": "execute_result",
          "data": {
            "text/plain": [
              "OrderedDict([('weights', tensor([0.5784])), ('bias', tensor([0.3513]))])"
            ]
          },
          "metadata": {},
          "execution_count": 29
        }
      ]
    },
    {
      "cell_type": "code",
      "source": [
        "loaded_model_0.eval()\n",
        "with torch.inference_mode():\n",
        "   load_pred=loaded_model_0(X_test)\n",
        "print(load_pred)"
      ],
      "metadata": {
        "colab": {
          "base_uri": "https://localhost:8080/"
        },
        "id": "Dr3CNSMlfPeq",
        "outputId": "9c23d68c-8c14-4330-95d5-a40e92edb72d"
      },
      "execution_count": 30,
      "outputs": [
        {
          "output_type": "stream",
          "name": "stdout",
          "text": [
            "tensor([[0.8141],\n",
            "        [0.8256],\n",
            "        [0.8372],\n",
            "        [0.8488],\n",
            "        [0.8603],\n",
            "        [0.8719],\n",
            "        [0.8835],\n",
            "        [0.8950],\n",
            "        [0.9066],\n",
            "        [0.9182]])\n"
          ]
        }
      ]
    },
    {
      "cell_type": "code",
      "source": [
        "y_pred==load_pred"
      ],
      "metadata": {
        "colab": {
          "base_uri": "https://localhost:8080/"
        },
        "id": "sl8LRG_MfeIG",
        "outputId": "9507083c-8db8-46e4-ce4e-d2105c7d744c"
      },
      "execution_count": 31,
      "outputs": [
        {
          "output_type": "execute_result",
          "data": {
            "text/plain": [
              "tensor([[True],\n",
              "        [True],\n",
              "        [True],\n",
              "        [True],\n",
              "        [True],\n",
              "        [True],\n",
              "        [True],\n",
              "        [True],\n",
              "        [True],\n",
              "        [True]])"
            ]
          },
          "metadata": {},
          "execution_count": 31
        }
      ]
    },
    {
      "cell_type": "markdown",
      "source": [
        "## putting it all together"
      ],
      "metadata": {
        "id": "N2Co1dQYgZqo"
      }
    },
    {
      "cell_type": "code",
      "source": [
        "import torch\n",
        "from torch import nn\n",
        "import matplotlib.pyplot as plt\n",
        "\n",
        "#check pytorch version\n",
        "\n",
        "torch.__version__"
      ],
      "metadata": {
        "colab": {
          "base_uri": "https://localhost:8080/",
          "height": 36
        },
        "id": "1jhmlhf3gcoD",
        "outputId": "7f865253-7546-41cb-dcfe-127c2751b267"
      },
      "execution_count": 32,
      "outputs": [
        {
          "output_type": "execute_result",
          "data": {
            "text/plain": [
              "'1.12.1+cu113'"
            ],
            "application/vnd.google.colaboratory.intrinsic+json": {
              "type": "string"
            }
          },
          "metadata": {},
          "execution_count": 32
        }
      ]
    },
    {
      "cell_type": "code",
      "source": [
        "## setup device agnostic code\n",
        "device=\"cuda\" if torch.cuda.is_available() else \"cpu\"\n",
        "device"
      ],
      "metadata": {
        "colab": {
          "base_uri": "https://localhost:8080/",
          "height": 36
        },
        "id": "PKeMNHlYg-6S",
        "outputId": "1e05a75b-c581-4688-aaf3-4aadf9cdae54"
      },
      "execution_count": 33,
      "outputs": [
        {
          "output_type": "execute_result",
          "data": {
            "text/plain": [
              "'cuda'"
            ],
            "application/vnd.google.colaboratory.intrinsic+json": {
              "type": "string"
            }
          },
          "metadata": {},
          "execution_count": 33
        }
      ]
    },
    {
      "cell_type": "markdown",
      "source": [
        "##Data"
      ],
      "metadata": {
        "id": "mk9bFBd1if68"
      }
    },
    {
      "cell_type": "code",
      "source": [
        "weight = 0.7\n",
        "bias= 0.3\n",
        "\n",
        "start= 0\n",
        "end=1\n",
        "step=0.02\n",
        "\n",
        "x= torch.arange(start,end,step)\n",
        "y= weight*x + bias\n",
        "x[:10],y[:10]"
      ],
      "metadata": {
        "colab": {
          "base_uri": "https://localhost:8080/"
        },
        "id": "8L41iva7hThy",
        "outputId": "a2655df3-ae55-4922-ee3b-a218153a99ad"
      },
      "execution_count": 34,
      "outputs": [
        {
          "output_type": "execute_result",
          "data": {
            "text/plain": [
              "(tensor([0.0000, 0.0200, 0.0400, 0.0600, 0.0800, 0.1000, 0.1200, 0.1400, 0.1600,\n",
              "         0.1800]),\n",
              " tensor([0.3000, 0.3140, 0.3280, 0.3420, 0.3560, 0.3700, 0.3840, 0.3980, 0.4120,\n",
              "         0.4260]))"
            ]
          },
          "metadata": {},
          "execution_count": 34
        }
      ]
    },
    {
      "cell_type": "code",
      "source": [
        "x.detach()  ## to off the autograd"
      ],
      "metadata": {
        "colab": {
          "base_uri": "https://localhost:8080/"
        },
        "id": "fDSQhEdMxZdj",
        "outputId": "72a0f4b8-137d-4b86-b571-86c0ac227346"
      },
      "execution_count": 35,
      "outputs": [
        {
          "output_type": "execute_result",
          "data": {
            "text/plain": [
              "tensor([0.0000, 0.0200, 0.0400, 0.0600, 0.0800, 0.1000, 0.1200, 0.1400, 0.1600,\n",
              "        0.1800, 0.2000, 0.2200, 0.2400, 0.2600, 0.2800, 0.3000, 0.3200, 0.3400,\n",
              "        0.3600, 0.3800, 0.4000, 0.4200, 0.4400, 0.4600, 0.4800, 0.5000, 0.5200,\n",
              "        0.5400, 0.5600, 0.5800, 0.6000, 0.6200, 0.6400, 0.6600, 0.6800, 0.7000,\n",
              "        0.7200, 0.7400, 0.7600, 0.7800, 0.8000, 0.8200, 0.8400, 0.8600, 0.8800,\n",
              "        0.9000, 0.9200, 0.9400, 0.9600, 0.9800])"
            ]
          },
          "metadata": {},
          "execution_count": 35
        }
      ]
    },
    {
      "cell_type": "markdown",
      "source": [
        "## Train test split"
      ],
      "metadata": {
        "id": "bdflhhh1jGGL"
      }
    },
    {
      "cell_type": "code",
      "source": [
        "train_split= int(0.8 * len(x))\n",
        "x_train,y_train=x[:train_split],y[:train_split]\n",
        "x_test,y_test=x[train_split:],y[train_split:]\n",
        "\n",
        "len(x_train),len(y_train),len(x_test),len(y_test)"
      ],
      "metadata": {
        "colab": {
          "base_uri": "https://localhost:8080/"
        },
        "id": "xZGvMkzOi-J2",
        "outputId": "1be33bce-7f57-4c96-89e9-cb0d581ec4dc"
      },
      "execution_count": 36,
      "outputs": [
        {
          "output_type": "execute_result",
          "data": {
            "text/plain": [
              "(40, 40, 10, 10)"
            ]
          },
          "metadata": {},
          "execution_count": 36
        }
      ]
    },
    {
      "cell_type": "markdown",
      "source": [
        "##visualize"
      ],
      "metadata": {
        "id": "ySSllTlIjzKN"
      }
    },
    {
      "cell_type": "code",
      "source": [
        "def plot_prediction(x_train=x_train,y_train=y_train,x_test=x_test,y_test=y_test,prediction=None):\n",
        "  plt.figure(figsize=(10,7))\n",
        "  plt.scatter(x_train,y_train,color=\"red\",label=\"training_data\")\n",
        "  plt.scatter(x_test,y_test,color=\"pink\",label=\"test_data\")\n",
        "  if prediction != None:\n",
        "    plt.scatter(prediction,y_test,color=\"blue\",label=\"prediction\")\n",
        "  plt.legend(prop={\"size\":14})\n",
        "  plt.show()"
      ],
      "metadata": {
        "id": "6O_XnCqwjwuK"
      },
      "execution_count": 37,
      "outputs": []
    },
    {
      "cell_type": "code",
      "source": [
        "plot_prediction()"
      ],
      "metadata": {
        "colab": {
          "base_uri": "https://localhost:8080/",
          "height": 428
        },
        "id": "Ck0O4Vpkk8i-",
        "outputId": "dfe35923-d800-4c60-bb50-57cf25c0e5bd"
      },
      "execution_count": 38,
      "outputs": [
        {
          "output_type": "display_data",
          "data": {
            "text/plain": [
              "<Figure size 720x504 with 1 Axes>"
            ],
            "image/png": "[encoded data removed]"
          },
          "metadata": {
            "needs_background": "light"
          }
        }
      ]
    },
    {
      "cell_type": "markdown",
      "source": [
        "## Building a Pytorch linear model"
      ],
      "metadata": {
        "id": "hg2zBTyPlqlQ"
      }
    },
    {
      "cell_type": "code",
      "source": [
        "## building model using nn.Linear\n",
        "\n",
        "class LinerRegression(nn.Module):\n",
        "  def __init__(self):\n",
        "    super().__init__()\n",
        "    self.liner_layer= nn.Liner(in_feature=1,out_features=1)\n",
        "  def forward(self,x:torch.Tensor)->torch.Tensor:\n",
        "    return self.linear_layer(x)"
      ],
      "metadata": {
        "id": "0vKEq_KVlpqV"
      },
      "execution_count": 39,
      "outputs": []
    },
    {
      "cell_type": "code",
      "source": [
        "torch.manual_seed(42)\n",
        "model=linearregression()"
      ],
      "metadata": {
        "id": "uaGkWv00lp0u"
      },
      "execution_count": 40,
      "outputs": []
    },
    {
      "cell_type": "code",
      "source": [
        "next(model.parameters()).device"
      ],
      "metadata": {
        "colab": {
          "base_uri": "https://localhost:8080/"
        },
        "id": "sKtS5UKny0JA",
        "outputId": "491d3452-d7de-4ec0-aa4b-41456d954352"
      },
      "execution_count": 42,
      "outputs": [
        {
          "output_type": "execute_result",
          "data": {
            "text/plain": [
              "device(type='cpu')"
            ]
          },
          "metadata": {},
          "execution_count": 42
        }
      ]
    },
    {
      "cell_type": "code",
      "source": [
        "model.to(device)"
      ],
      "metadata": {
        "colab": {
          "base_uri": "https://localhost:8080/"
        },
        "id": "zJtBzZxAy0Vg",
        "outputId": "57a45649-891e-485e-a2c1-04f65ca15aee"
      },
      "execution_count": 43,
      "outputs": [
        {
          "output_type": "execute_result",
          "data": {
            "text/plain": [
              "linearregression()"
            ]
          },
          "metadata": {},
          "execution_count": 43
        }
      ]
    },
    {
      "cell_type": "code",
      "source": [
        "## state_dict\n",
        "from pprint import pprint \n",
        "pprint(model.state_dict())"
      ],
      "metadata": {
        "colab": {
          "base_uri": "https://localhost:8080/"
        },
        "id": "0NoKI2abHDqc",
        "outputId": "a1d06e56-5909-4475-f25a-3dff8320e411"
      },
      "execution_count": 44,
      "outputs": [
        {
          "output_type": "stream",
          "name": "stdout",
          "text": [
            "OrderedDict([('weights', tensor([0.3367], device='cuda:0')),\n",
            "             ('bias', tensor([0.1288], device='cuda:0'))])\n"
          ]
        }
      ]
    },
    {
      "cell_type": "code",
      "source": [
        "model.eval()\n",
        "with torch.inference_mode():\n",
        "  y_pred=model(x_test.to(device))\n",
        "plot_prediction(prediction=y_pred.detach().cpu())"
      ],
      "metadata": {
        "colab": {
          "base_uri": "https://localhost:8080/",
          "height": 428
        },
        "id": "y9Hon1g2r_xn",
        "outputId": "a5b2e52f-4292-4ba0-8f23-d5b206451801"
      },
      "execution_count": 49,
      "outputs": [
        {
          "output_type": "display_data",
          "data": {
            "text/plain": [
              "<Figure size 720x504 with 1 Axes>"
            ],
            "image/png": "[encoded data removed]"
          },
          "metadata": {
            "needs_background": "light"
          }
        }
      ]
    },
    {
      "cell_type": "markdown",
      "source": [
        "##Training"
      ],
      "metadata": {
        "id": "TyxQWZ2HzZ7a"
      }
    },
    {
      "cell_type": "code",
      "source": [
        "loss_fn=nn.L1Loss()\n",
        "\n",
        "#create optimizer\n",
        "\n",
        "optimizer= torch.optim.SGD(params=model.parameters(),lr=0.01)\n",
        "\n"
      ],
      "metadata": {
        "id": "G9mYmIknvYgc"
      },
      "execution_count": 50,
      "outputs": []
    },
    {
      "cell_type": "code",
      "source": [
        "optimizer.state_dict()"
      ],
      "metadata": {
        "colab": {
          "base_uri": "https://localhost:8080/"
        },
        "id": "DGeceRkkumiA",
        "outputId": "fbb5a903-12e2-4eb9-db61-b1394af2626b"
      },
      "execution_count": 51,
      "outputs": [
        {
          "output_type": "execute_result",
          "data": {
            "text/plain": [
              "{'state': {},\n",
              " 'param_groups': [{'lr': 0.01,\n",
              "   'momentum': 0,\n",
              "   'dampening': 0,\n",
              "   'weight_decay': 0,\n",
              "   'nesterov': False,\n",
              "   'maximize': False,\n",
              "   'foreach': None,\n",
              "   'params': [0, 1]}]}"
            ]
          },
          "metadata": {},
          "execution_count": 51
        }
      ]
    },
    {
      "cell_type": "markdown",
      "source": [
        "## Training loop"
      ],
      "metadata": {
        "id": "U-VvfmZOs1P1"
      }
    },
    {
      "cell_type": "code",
      "source": [
        "epoch=300\n",
        "train_loss=[]\n",
        "test_loss=[]\n",
        "epoch_count=[]\n",
        "x_train=x_train.to(device)\n",
        "y_train=y_train.to(device)\n",
        "x_test=x_test.to(device)\n",
        "y_test=y_test.to(device)\n",
        "for epoch in range(epoch):\n",
        "  ## set the model in train mode\n",
        "  model.train()\n",
        "  ## forward pass\n",
        "  y_pred=model(x_train)\n",
        "  ##calculate the loss\n",
        "  loss_train=loss_fn(y_pred,y_train)\n",
        "  ## zero the gradient for every fresh epoch\n",
        "  optimizer.zero_grad()\n",
        "  ## calculate the gradient\n",
        "  loss_train.backward()\n",
        "  ## update the weights\n",
        "  optimizer.step()\n",
        "\n",
        "  ## evaluatuion\n",
        "  model.eval()\n",
        "  with torch.inference_mode():\n",
        "    y_pred=model(x_test)\n",
        "    loss_test=loss_fn(y_pred,y_test)\n",
        "  if epoch%10==0:\n",
        "    epoch_count.append(epoch)\n",
        "    train_loss.append(loss_train.detach().cpu().numpy())\n",
        "    test_loss.append(loss_test.detach().cpu().numpy())\n",
        "    print(f\"Epoch: {epoch} | MAE Train Loss: {loss_train} | MAE Test Loss: {loss_test} \")\n"
      ],
      "metadata": {
        "id": "SER2F-6jz03L",
        "colab": {
          "base_uri": "https://localhost:8080/"
        },
        "outputId": "94dc83df-993d-4f54-9f1c-33fbbc288a64"
      },
      "execution_count": 54,
      "outputs": [
        {
          "output_type": "stream",
          "name": "stdout",
          "text": [
            "Epoch: 0 | MAE Train Loss: 0.28983935713768005 | MAE Test Loss: 0.45412322878837585 \n",
            "Epoch: 10 | MAE Train Loss: 0.1746293306350708 | MAE Test Loss: 0.3194132149219513 \n",
            "Epoch: 20 | MAE Train Loss: 0.07638873159885406 | MAE Test Loss: 0.19773727655410767 \n",
            "Epoch: 30 | MAE Train Loss: 0.05069301277399063 | MAE Test Loss: 0.13647659122943878 \n",
            "Epoch: 40 | MAE Train Loss: 0.04463795945048332 | MAE Test Loss: 0.1100495383143425 \n",
            "Epoch: 50 | MAE Train Loss: 0.040980637073516846 | MAE Test Loss: 0.09699546545743942 \n",
            "Epoch: 60 | MAE Train Loss: 0.0375034399330616 | MAE Test Loss: 0.08666229248046875 \n",
            "Epoch: 70 | MAE Train Loss: 0.03407188132405281 | MAE Test Loss: 0.07907667011022568 \n",
            "Epoch: 80 | MAE Train Loss: 0.030638623982667923 | MAE Test Loss: 0.07080408930778503 \n",
            "Epoch: 90 | MAE Train Loss: 0.027199817821383476 | MAE Test Loss: 0.06253156810998917 \n",
            "Epoch: 100 | MAE Train Loss: 0.02376994863152504 | MAE Test Loss: 0.05494590476155281 \n",
            "Epoch: 110 | MAE Train Loss: 0.02033500373363495 | MAE Test Loss: 0.046673357486724854 \n",
            "Epoch: 120 | MAE Train Loss: 0.016896456480026245 | MAE Test Loss: 0.0390876941382885 \n",
            "Epoch: 130 | MAE Train Loss: 0.013468016870319843 | MAE Test Loss: 0.030815154314041138 \n",
            "Epoch: 140 | MAE Train Loss: 0.010031387209892273 | MAE Test Loss: 0.022542614489793777 \n",
            "Epoch: 150 | MAE Train Loss: 0.006594526115804911 | MAE Test Loss: 0.014956957660615444 \n",
            "Epoch: 160 | MAE Train Loss: 0.0031660839449614286 | MAE Test Loss: 0.006684416439384222 \n",
            "Epoch: 170 | MAE Train Loss: 0.008932482451200485 | MAE Test Loss: 0.005023092031478882 \n",
            "Epoch: 180 | MAE Train Loss: 0.008932482451200485 | MAE Test Loss: 0.005023092031478882 \n",
            "Epoch: 190 | MAE Train Loss: 0.008932482451200485 | MAE Test Loss: 0.005023092031478882 \n",
            "Epoch: 200 | MAE Train Loss: 0.008932482451200485 | MAE Test Loss: 0.005023092031478882 \n",
            "Epoch: 210 | MAE Train Loss: 0.008932482451200485 | MAE Test Loss: 0.005023092031478882 \n",
            "Epoch: 220 | MAE Train Loss: 0.008932482451200485 | MAE Test Loss: 0.005023092031478882 \n",
            "Epoch: 230 | MAE Train Loss: 0.008932482451200485 | MAE Test Loss: 0.005023092031478882 \n",
            "Epoch: 240 | MAE Train Loss: 0.008932482451200485 | MAE Test Loss: 0.005023092031478882 \n",
            "Epoch: 250 | MAE Train Loss: 0.008932482451200485 | MAE Test Loss: 0.005023092031478882 \n",
            "Epoch: 260 | MAE Train Loss: 0.008932482451200485 | MAE Test Loss: 0.005023092031478882 \n",
            "Epoch: 270 | MAE Train Loss: 0.008932482451200485 | MAE Test Loss: 0.005023092031478882 \n",
            "Epoch: 280 | MAE Train Loss: 0.008932482451200485 | MAE Test Loss: 0.005023092031478882 \n",
            "Epoch: 290 | MAE Train Loss: 0.008932482451200485 | MAE Test Loss: 0.005023092031478882 \n"
          ]
        }
      ]
    },
    {
      "cell_type": "code",
      "source": [
        "model.eval()\n",
        "with torch.inference_mode():\n",
        "  y_pred=model(x_test)\n",
        "plot_prediction(prediction=y_pred.cpu())"
      ],
      "metadata": {
        "colab": {
          "base_uri": "https://localhost:8080/",
          "height": 428
        },
        "id": "ANhdo7A-x30O",
        "outputId": "8e139fe4-2fd5-4ddb-e34f-a0bf8bad5f57"
      },
      "execution_count": 56,
      "outputs": [
        {
          "output_type": "display_data",
          "data": {
            "text/plain": [
              "<Figure size 720x504 with 1 Axes>"
            ],
            "image/png": "[encoded data removed]"
          },
          "metadata": {
            "needs_background": "light"
          }
        }
      ]
    },
    {
      "cell_type": "markdown",
      "source": [
        "\n",
        "## save the model"
      ],
      "metadata": {
        "id": "iTmd5M-wyX5M"
      }
    },
    {
      "cell_type": "code",
      "source": [
        "torch.save(obj=model.state_dict(),f=\"model.pth\")"
      ],
      "metadata": {
        "id": "kcWc14wnyTTN"
      },
      "execution_count": 57,
      "outputs": []
    },
    {
      "cell_type": "code",
      "source": [
        "# Find our model's learned parameters\n",
        "from pprint import pprint # pprint = pretty print, see: https://docs.python.org/3/library/pprint.html \n",
        "print(\"The model learned the following values for weights and bias:\")\n",
        "pprint(model.state_dict())\n",
        "print(\"\\nAnd the original values for weights and bias are:\")\n",
        "print(f\"weights: {weight}, bias: {bias}\")"
      ],
      "metadata": {
        "colab": {
          "base_uri": "https://localhost:8080/"
        },
        "id": "MQ1Y-NPyym2m",
        "outputId": "227ab880-53da-4f35-ab41-4f400ef566b1"
      },
      "execution_count": 58,
      "outputs": [
        {
          "output_type": "stream",
          "name": "stdout",
          "text": [
            "The model learned the following values for weights and bias:\n",
            "OrderedDict([('weights', tensor([0.6990], device='cuda:0')),\n",
            "             ('bias', tensor([0.3093], device='cuda:0'))])\n",
            "\n",
            "And the original values for weights and bias are:\n",
            "weights: 0.7, bias: 0.3\n"
          ]
        }
      ]
    },
    {
      "cell_type": "code",
      "source": [
        "x=torch.randn(size=(4,4))\n",
        "x"
      ],
      "metadata": {
        "colab": {
          "base_uri": "https://localhost:8080/"
        },
        "id": "ou6MudRKyowk",
        "outputId": "97cc5c4c-2c7a-4b41-8af1-339bde0371f6"
      },
      "execution_count": 59,
      "outputs": [
        {
          "output_type": "execute_result",
          "data": {
            "text/plain": [
              "tensor([[ 0.6784, -1.2345, -0.0431, -1.6047],\n",
              "        [ 1.7878, -0.4780, -0.2429, -0.9342],\n",
              "        [-0.7279, -0.5594, -0.7688,  0.7624],\n",
              "        [-1.5673, -0.2394,  2.3228, -0.9634]])"
            ]
          },
          "metadata": {},
          "execution_count": 59
        }
      ]
    },
    {
      "cell_type": "code",
      "source": [
        "x_view=x.view(2,4,2)\n",
        "x_view"
      ],
      "metadata": {
        "colab": {
          "base_uri": "https://localhost:8080/"
        },
        "id": "ytHWsq9R0fdR",
        "outputId": "92d2d3ce-7e01-4fb9-e781-f8ebad751466"
      },
      "execution_count": 60,
      "outputs": [
        {
          "output_type": "execute_result",
          "data": {
            "text/plain": [
              "tensor([[[ 0.6784, -1.2345],\n",
              "         [-0.0431, -1.6047],\n",
              "         [ 1.7878, -0.4780],\n",
              "         [-0.2429, -0.9342]],\n",
              "\n",
              "        [[-0.7279, -0.5594],\n",
              "         [-0.7688,  0.7624],\n",
              "         [-1.5673, -0.2394],\n",
              "         [ 2.3228, -0.9634]]])"
            ]
          },
          "metadata": {},
          "execution_count": 60
        }
      ]
    }
  ]
}